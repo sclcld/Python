{
 "cells": [
  {
   "cell_type": "code",
   "execution_count": 2,
   "id": "b9e5b534-69dd-44ee-8ae9-ec4ad6c31404",
   "metadata": {},
   "outputs": [
    {
     "name": "stdout",
     "output_type": "stream",
     "text": [
      "mat[0][4] == 4 True\n"
     ]
    }
   ],
   "source": [
    "mat = [[0, 1, 2, 3, 4], [5, 6, 7, 8, 9], [10, 11, 12, 13, 14]]\n",
    "\n",
    "\"\"\"\n",
    "    Che tipo di struttura dati o matematica potrebbe rappresentare? \n",
    "    \n",
    "    Una matrice o array bidimensionale\n",
    "    \n",
    "    Come facciamo per accedere ad un elemento in particolare?\n",
    "    \n",
    "    Tramite indexing.\n",
    "\"\"\"    \n",
    "\n",
    "print(\"mat[0][4] == 4\", mat[0][4] == 4)\n"
   ]
  },
  {
   "cell_type": "code",
   "execution_count": 13,
   "id": "f63849af-356b-44a3-b356-5582963504a8",
   "metadata": {},
   "outputs": [
    {
     "name": "stdout",
     "output_type": "stream",
     "text": [
      "fattoriale 4  24\n",
      "seno 90 0.8939966636005579\n",
      "coseno 45  0.5253219888177297\n",
      "pigreco 3.141592653589793\n"
     ]
    }
   ],
   "source": [
    "\"\"\"\n",
    "    Importiamo il modulo math e proviamo a usare le funzioni .sin() .cos() .factorial() e la variabile .pi la riconoscete?\n",
    "\"\"\"    \n",
    "\n",
    "import math\n",
    "\n",
    "print(\"fattoriale 4 \",math.factorial(4))\n",
    "print(\"seno 90\", math.sin(90))\n",
    "print(\"coseno 45 \", math.cos(45))\n",
    "print(\"pigreco\",math.pi)\n",
    "\n"
   ]
  },
  {
   "cell_type": "code",
   "execution_count": 9,
   "id": "d01487ca-f9df-4004-9e9c-aab7f2443677",
   "metadata": {},
   "outputs": [
    {
     "name": "stdout",
     "output_type": "stream",
     "text": [
      "180.0\n"
     ]
    }
   ],
   "source": [
    "\"\"\"\n",
    "    Proviamo a eseguire math.degrees(math.pi) Qual è e cosa significa il risultato? Per saperne di più su questa funzione possiamo usare help(math.degrees)\n",
    "\"\"\"\n",
    "\n",
    "print(math.degrees(math.pi)\n"
   ]
  },
  {
   "cell_type": "code",
   "execution_count": 11,
   "id": "0f0d22b7-2099-4a21-a2c2-389747584d22",
   "metadata": {},
   "outputs": [
    {
     "name": "stdout",
     "output_type": "stream",
     "text": [
      "Help on built-in function degrees in module math:\n",
      "\n",
      "degrees(x, /)\n",
      "    Convert angle x from radians to degrees.\n",
      "\n"
     ]
    }
   ],
   "source": [
    "help(math.degrees)"
   ]
  },
  {
   "cell_type": "code",
   "execution_count": 12,
   "id": "eac34127-3fec-4844-9b2d-28c0d2f99ede",
   "metadata": {},
   "outputs": [
    {
     "name": "stdout",
     "output_type": "stream",
     "text": [
      "Vendita massima: 8150\n",
      "Vendita minima: 1280\n",
      "Vendite mensili > 4999: [5500 7200 6410 8150 7100 5350]\n",
      "Numero vendite mensili > 4999: 6\n",
      "Vendite < 3000:  [2000 1280 1900 2500]\n",
      "Media mensile vendite: 4634\n"
     ]
    }
   ],
   "source": [
    "import numpy as np\n",
    "\n",
    "\"\"\"L'azienda Object SpA ha creato una lista di quanti oggetti ha venduto ogni mese \n",
    "    nell'ultimo anno, trasformiamola in un array NumPy (casting): lst = np.array(lst) \n",
    "    e rispondiamo alle domande del CEO della Object SpA:\n",
    "\"\"\"    \n",
    "\n",
    "lst = [2000, 5500, 7200, 4320, 1280, 1900, 2500, 3900, 6410, 8150, 7100, 5350]\n",
    "\n",
    "lst = np.array(lst)\n",
    "\"\"\"qual è stata la vendita massima mensile? E quella minima? \n",
    "• quali sono le vendite mensili maggiori di 4999 oggetti?\n",
    "     E quante ne sono? \n",
    "• quali sono le vendite minori di 3000 oggetti? \n",
    "• in media quanti oggetti sono stati venduti al mese?\n",
    "\"\"\"\n",
    "\n",
    "print(f\"Vendita massima: {lst.max()}\")\n",
    "print(f\"Vendita minima: {lst.min()}\")\n",
    "me_five_thousand = lst[lst > 4999]\n",
    "me_five_thousand_lenght = len(me_five_thousand)\n",
    "print(f\"Vendite mensili > 4999: {me_five_thousand}\") \n",
    "print(f\"Numero vendite mensili > 4999: {me_five_thousand_lenght}\" )\n",
    "print(f\"Vendite < 3000: \", lst[lst < 3000])\n",
    "print(f\"Media mensile vendite: {int(lst.mean())}\")\n",
    " \n"
   ]
  },
  {
   "cell_type": "code",
   "execution_count": null,
   "id": "fdbd22b8-ed69-4a54-992b-fe9d6f20780d",
   "metadata": {},
   "outputs": [],
   "source": [
    "\"\"\"\n",
    "    Consideriamo il seguente dizionario: fatturati_dict = {1997: 12_000, 1998: 15_000, 1999: 20_000, 2000: 23_000, 2001: 25_000, 2002: 17_000, 2003: 14_000, 2004: 21_000} \n",
    "    Consideriamo ora la seguente Series: fatturati_series = pd.Series([12_000, 15_000, 20_000, 23_000, 25_000, 17_000, 14_000, 21_000], index=range(1997, 2005))\n",
    "    Possiamo accedere alle stesse informazioni nello stesso modo: fatturati_dict[1997] fatturati_series[1997] Dunque qual è la differenza tra i due tipi di dato? \n",
    "    Cosa potremmo fare con la Series che non possiamo fare con il dizionari?\n",
    "\"\"\"\n",
    "\n",
    "# i dict sono unaschable e non si possono apportare modifiche alle chiavi(che diversamente dalle series hanno un'indicizzazione numerica).\n",
    "# Cambiano metodi e \"operazioni\" possibili sull'oggetto\n",
    "    "
   ]
  },
  {
   "cell_type": "code",
   "execution_count": null,
   "id": "a197b84d-6aea-4da0-9046-f9ad53c951f3",
   "metadata": {},
   "outputs": [],
   "source": [
    "\"\"\"\n",
    "    L'azienda Object SpA ha un dataset con tutti gli stipendi dei dipendenti, memorizzato in un ndarray: \n",
    "    L'azienda ci chiede di raddoppiare tutti gli stipendi; \n",
    "    facciamolo in due modi: \n",
    "        • con un ciclo for \n",
    "        • con il masking\n",
    "\"\"\"\n",
    "\n",
    "stipendi = np.array( [100, 200, 300, 400, 500,  600, 700, 800, 900, 1000])\n",
    "\n",
    "stipendi_for = [stipendio + stipendio for stipendio in stipendi]\n",
    "stipendi_mask = stipendi * 2\n",
    "\n",
    "print(stipendi_for)\n",
    "print(stipendi_mask)"
   ]
  }
 ],
 "metadata": {
  "kernelspec": {
   "display_name": "Python 3 (ipykernel)",
   "language": "python",
   "name": "python3"
  },
  "language_info": {
   "codemirror_mode": {
    "name": "ipython",
    "version": 3
   },
   "file_extension": ".py",
   "mimetype": "text/x-python",
   "name": "python",
   "nbconvert_exporter": "python",
   "pygments_lexer": "ipython3",
   "version": "3.10.12"
  }
 },
 "nbformat": 4,
 "nbformat_minor": 5
}
