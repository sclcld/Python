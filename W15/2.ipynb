{
 "cells": [
  {
   "cell_type": "code",
   "execution_count": 1,
   "id": "1702bdb6-a7b9-4035-8011-d930fe4b9181",
   "metadata": {},
   "outputs": [],
   "source": [
    "import dotenv\n",
    "import os\n",
    "from sqlalchemy import create_engine\n",
    "import pandas as pd\n",
    "\"\"\"\n",
    "    Dal database AdventureWorks estraiamo la tabella dimproduct \n",
    "\"\"\"    \n",
    "\n",
    "dotenv.load_dotenv(override= True)\n",
    "\n",
    "username = os.getenv(\"username\")\n",
    "password = os.getenv(\"password\")\n",
    "host = os.getenv(\"host\")\n",
    "dbname = os.getenv(\"dbname\")\n",
    "\n",
    "conn_string = f\"mysql+pymysql://{username}:{password}@{host}/{dbname}\"\n",
    "db_engine = create_engine(conn_string)\n",
    "query = 'SELECT * FROM dimproduct'\n",
    "query2 = 'SELECT * FROM dimcustomer'\n",
    "\n",
    "dimproduct = pd.read_sql(query,db_engine)\n",
    "dimcustomer = pd.read_sql(query2, db_engine)\n",
    "\n",
    "db_engine.dispose()"
   ]
  },
  {
   "cell_type": "code",
   "execution_count": 9,
   "id": "9f4362e9-a746-4c06-b2ae-bd4b3001f2d7",
   "metadata": {},
   "outputs": [],
   "source": [
    "\"\"\"\n",
    "    • Sulla colonna DealerPrice, utilizzando il metodo .round(), \n",
    "    arrotondiamo i valori alle due cifre decimali, e poi al valore intero più vicino \n",
    "\"\"\"\n",
    "\n",
    "dimproduct[\"DealerPrice\"] = dimproduct[\"DealerPrice\"].round(2)"
   ]
  },
  {
   "cell_type": "code",
   "execution_count": 10,
   "id": "23a1d73a-0e6e-488a-aa7d-bb6e6d50b33d",
   "metadata": {},
   "outputs": [],
   "source": [
    "dimproduct[\"DealerPrice\"] = dimproduct[\"DealerPrice\"].round(0)"
   ]
  },
  {
   "cell_type": "code",
   "execution_count": 11,
   "id": "6a5dab8a-8f07-493c-8ab5-3987231ce6bb",
   "metadata": {},
   "outputs": [],
   "source": [
    "\"\"\"\n",
    "    • Utilizzando il metodo .clip(),facciamo in modo che i valori siano compresi tra un \n",
    "    minimo di 0 e un massimo di 1000.\n",
    "\"\"\"\n",
    "dimproduct[\"DealerPrice\"] = dimproduct[\"DealerPrice\"].clip(0,1000)\n"
   ]
  },
  {
   "cell_type": "code",
   "execution_count": 12,
   "id": "c5c1a19c-0a28-4f99-b176-921b4830e3e5",
   "metadata": {},
   "outputs": [
    {
     "name": "stdout",
     "output_type": "stream",
     "text": [
      "0      1920\n",
      "1      1902\n",
      "2      3521\n",
      "3      3482\n",
      "4      7952\n",
      "5      3110\n",
      "6      4799\n",
      "7      7086\n",
      "8      2023\n",
      "9      3148\n",
      "10     3601\n",
      "11     2266\n",
      "12     6129\n",
      "13     5183\n",
      "14    10965\n",
      "15     8840\n",
      "16    12215\n",
      "17     8435\n",
      "18     5829\n",
      "19    12243\n",
      "20     6667\n",
      "21     4943\n",
      "22     4610\n",
      "23     3173\n",
      "24    12228\n",
      "25     9153\n",
      "26    13569\n",
      "27    14157\n",
      "28    15559\n",
      "29    14235\n",
      "30     8797\n",
      "31    16415\n",
      "32     8725\n",
      "33     7539\n",
      "34     8275\n",
      "35     4721\n",
      "36    18994\n",
      "37    12937\n",
      "38    17757\n",
      "39    19290\n",
      "40    21907\n",
      "41    22795\n",
      "42    12057\n",
      "43    20407\n",
      "44    12069\n",
      "45    10648\n",
      "46    11039\n",
      "47     8663\n",
      "48    27006\n",
      "49    15445\n",
      "50    26737\n",
      "51    24967\n",
      "52    30355\n",
      "53    30496\n",
      "54    15950\n",
      "55    29249\n",
      "56    16681\n",
      "57    12533\n",
      "58    14869\n",
      "59    12993\n",
      "Name: Guadagni, dtype: int64\n"
     ]
    }
   ],
   "source": [
    "import numpy as np\n",
    "\n",
    "\n",
    "years = 5 \n",
    "a = pd.DataFrame({\n",
    "                    \"Mese\": list(\"GFMAMGLASOND\"*years),  \n",
    "                    \"Anno\": np.repeat(list(range(years)), 12), \n",
    "                    \"Guadagni\": np.random.randint(800, 5000, 12*years)\n",
    "                })\n",
    "\n",
    "print(a.groupby(\"Mese\")[\"Guadagni\"].cumsum())\n",
    "\n"
   ]
  },
  {
   "cell_type": "code",
   "execution_count": 13,
   "id": "4a067d84-8b78-4865-88eb-3b9befbe41ad",
   "metadata": {},
   "outputs": [
    {
     "name": "stdout",
     "output_type": "stream",
     "text": [
      "0      1920\n",
      "1      3822\n",
      "2      7343\n",
      "3     10825\n",
      "4     15256\n",
      "5     16446\n",
      "6     21245\n",
      "7     24849\n",
      "8     26872\n",
      "9     30020\n",
      "10    33621\n",
      "11    35887\n",
      "12     3019\n",
      "13     6300\n",
      "14     9313\n",
      "15    11067\n",
      "16    12317\n",
      "17    14623\n",
      "18    15653\n",
      "19    19056\n",
      "20    23700\n",
      "21    25495\n",
      "22    26504\n",
      "23    27411\n",
      "24     3793\n",
      "25     7763\n",
      "26     9117\n",
      "27    11031\n",
      "28    13021\n",
      "29    15028\n",
      "30    17996\n",
      "31    20254\n",
      "32    22312\n",
      "33    24908\n",
      "34    28573\n",
      "35    30121\n",
      "36     4759\n",
      "37     8543\n",
      "38    10741\n",
      "39    13616\n",
      "40    17766\n",
      "41    21567\n",
      "42    24827\n",
      "43    25944\n",
      "44    29288\n",
      "45    32397\n",
      "46    35161\n",
      "47    39103\n",
      "48     4211\n",
      "49     6719\n",
      "50    11549\n",
      "51    16109\n",
      "52    19727\n",
      "53    23217\n",
      "54    27110\n",
      "55    31392\n",
      "56    36004\n",
      "57    37889\n",
      "58    41719\n",
      "59    46049\n",
      "Name: Guadagni, dtype: int64\n"
     ]
    }
   ],
   "source": [
    "\"\"\"\n",
    "    • Come sopra, ma diviso per ogni anno\n",
    "\"\"\"\n",
    "print(a.groupby(\"Anno\")[\"Guadagni\"].cumsum())\n"
   ]
  },
  {
   "cell_type": "code",
   "execution_count": 14,
   "id": "a4b6bdbb-7f49-4982-9de0-140fd56ff2ca",
   "metadata": {},
   "outputs": [
    {
     "name": "stdout",
     "output_type": "stream",
     "text": [
      "       CustomerKey  GeographyKey CustomerAlternateKey Title FirstName  \\\n",
      "11781        22781           352           AW00022781  None    hunter   \n",
      "\n",
      "      MiddleName LastName  NameStyle   BirthDate MaritalStatus  ...  \\\n",
      "11781       None   POWELL          0  1956-12-19             M  ...   \n",
      "\n",
      "      EnglishOccupation SpanishOccupation FrenchOccupation  HouseOwnerFlag  \\\n",
      "11781      Professional       Profesional            Cadre               1   \n",
      "\n",
      "       NumberCarsOwned    AddressLine1 AddressLine2         Phone  \\\n",
      "11781                1  6601 Browse Ct         None  516-555-0191   \n",
      "\n",
      "      DateFirstPurchase CommuteDistance  \n",
      "11781        2014-01-07       10+ Miles  \n",
      "\n",
      "[1 rows x 29 columns]\n"
     ]
    }
   ],
   "source": [
    "\"\"\"\n",
    "    Da dimcustomer:\n",
    "\n",
    "\n",
    "    • Trasformiamo i nomi dei clienti in modo che abbiano solo lettere minuscole,\n",
    "    e i cognomi in modo che abbiano solo lettere maiuscole \n",
    "\"\"\"\n",
    "dimcustomer[\"FirstName\"] = dimcustomer[\"FirstName\"].str.lower()\n",
    "dimcustomer[\"LastName\"] = dimcustomer[\"LastName\"].str.upper()\n",
    "\n",
    "print(dimcustomer.sample())\n"
   ]
  },
  {
   "cell_type": "code",
   "execution_count": 15,
   "id": "dcfcd688-4756-4340-90df-f02ad9992422",
   "metadata": {},
   "outputs": [
    {
     "name": "stdout",
     "output_type": "stream",
     "text": [
      "      CustomerKey  GeographyKey CustomerAlternateKey Title FirstName  \\\n",
      "2172        13172           626           AW00013172  None  isabella   \n",
      "\n",
      "     MiddleName LastName  NameStyle   BirthDate MaritalStatus  ...  \\\n",
      "2172          D     COOK          0  1974-03-18             S  ...   \n",
      "\n",
      "     FrenchOccupation HouseOwnerFlag NumberCarsOwned       AddressLine1  \\\n",
      "2172        Direction              0               1  5998 Hilltop Road   \n",
      "\n",
      "      AddressLine2         Phone DateFirstPurchase CommuteDistance  \\\n",
      "2172          None  248-555-0151        2013-10-06       1-2 Miles   \n",
      "\n",
      "        Username               Domain  \n",
      "2172  isabella86  adventure-works.com  \n",
      "\n",
      "[1 rows x 31 columns]\n"
     ]
    }
   ],
   "source": [
    "\"\"\"\n",
    "    • Sulla colonna EmailAddress, utilizzando il metodo .str.split(), estraiamo nome utente e dominio \n",
    "\"\"\"\n",
    "dimcustomer[[\"Username\",\"Domain\"]] = dimcustomer[\"EmailAddress\"].str.split(\"@\", expand= True)\n",
    "print(dimcustomer.sample())\n"
   ]
  },
  {
   "cell_type": "code",
   "execution_count": 16,
   "id": "6c4d82c6-6750-4a6c-8f4b-594bf722ff55",
   "metadata": {},
   "outputs": [
    {
     "name": "stdout",
     "output_type": "stream",
     "text": [
      "      CustomerKey  GeographyKey CustomerAlternateKey Title FirstName  \\\n",
      "3718        14718           155           AW00014718  None   gregory   \n",
      "\n",
      "     MiddleName LastName  NameStyle   BirthDate MaritalStatus  ...  \\\n",
      "3718       None     RAJI          0  1977-04-13             S  ...   \n",
      "\n",
      "     AddressLine2                Phone DateFirstPurchase  CommuteDistance  \\\n",
      "3718         None  1 (11) 500 555-0185        2013-03-06        1-2 Miles   \n",
      "\n",
      "       Username               Domain internationaPrfx AreaPrfx LocalPrfx  \\\n",
      "3718  gregory25  adventure-works.com                1     (11)       500   \n",
      "\n",
      "      PhNumber  \n",
      "3718  555-0185  \n",
      "\n",
      "[1 rows x 35 columns]\n"
     ]
    }
   ],
   "source": [
    "\n",
    "\"\"\"\n",
    "     • Sulla colonna Phone, estraiamo ogni parte del numero \n",
    "     (ad es. da \"1 (11) 500 555-0162\" a [\"1\", \"(11)\", \"500\", \"555-0162\"]) \n",
    "\"\"\"  \n",
    "dimcustomer[[\"internationaPrfx\",\"AreaPrfx\", \"LocalPrfx\", \"PhNumber\" ]] = dimcustomer[\"Phone\"].str.split(\" \", expand= True)\n",
    "print(dimcustomer.sample())"
   ]
  },
  {
   "cell_type": "code",
   "execution_count": 17,
   "id": "05b23889-7b9b-4f6e-a223-2ff25dbfb589",
   "metadata": {},
   "outputs": [
    {
     "name": "stdout",
     "output_type": "stream",
     "text": [
      "       CustomerKey  GeographyKey CustomerAlternateKey Title FirstName  \\\n",
      "13136        24136           188           AW00024136  None    alisha   \n",
      "\n",
      "      MiddleName LastName  NameStyle   BirthDate MaritalStatus  ...  \\\n",
      "13136          E       HU          0  1980-12-29             S  ...   \n",
      "\n",
      "      AddressLine2                Phone DateFirstPurchase  CommuteDistance  \\\n",
      "13136         None  1 (11) 500 555-0175        2013-04-02        2-5 Miles   \n",
      "\n",
      "       Username               Domain internationaPrfx AreaPrfx LocalPrfx  \\\n",
      "13136  alisha21  adventure-works.com                1     (11)       500   \n",
      "\n",
      "       PhNumber  \n",
      "13136  555-0175  \n",
      "\n",
      "[1 rows x 35 columns]\n"
     ]
    }
   ],
   "source": [
    "\"\"\"    \n",
    "    • Utilizzando il metodo .str.contains(), estraiamo tutti gli indirizzi e-mail che contengono il numero \"21\"\n",
    "\"\"\"\n",
    "contains_twentyone = dimcustomer[dimcustomer['EmailAddress'].str.contains('21')]\n",
    "print(contains_twentyone.sample())"
   ]
  },
  {
   "cell_type": "code",
   "execution_count": 18,
   "id": "f1358430-d7dc-4942-9480-5b705e94a2a5",
   "metadata": {},
   "outputs": [
    {
     "name": "stdout",
     "output_type": "stream",
     "text": [
      "<bound method NDFrame.sample of        CustomerKey  GeographyKey CustomerAlternateKey Title   FirstName  \\\n",
      "1            11001            37           AW00011001  None      eugene   \n",
      "10           11010            22           AW00011010  None   jacquelyn   \n",
      "22           11022           609           AW00011022  None       ethan   \n",
      "30           11030            28           AW00011030  None     bethany   \n",
      "32           11032            35           AW00011032  None      denise   \n",
      "...            ...           ...                  ...   ...         ...   \n",
      "18395        29395           203           AW00029395  None       lydia   \n",
      "18397        29397           193           AW00029397  None      walter   \n",
      "18415        29415           223           AW00029415  None       oscar   \n",
      "18418        29418           163           AW00029418  None     lindsey   \n",
      "18428        29428           156           AW00029428  None  kristopher   \n",
      "\n",
      "      MiddleName LastName  NameStyle   BirthDate MaritalStatus  ...  \\\n",
      "1              L    HUANG          0  1976-05-10             S  ...   \n",
      "10             C   SUAREZ          0  1969-08-05             S  ...   \n",
      "22             G    ZHANG          0  1984-04-10             M  ...   \n",
      "30             G     YUAN          0  1958-02-18             M  ...   \n",
      "32          None    STONE          0  1952-12-08             M  ...   \n",
      "...          ...      ...        ...         ...           ...  ...   \n",
      "18395       None     RANA          0  1939-10-06             S  ...   \n",
      "18397          E    RAMOS          0  1976-05-10             M  ...   \n",
      "18415          L   FLORES          0  1983-03-25             S  ...   \n",
      "18418       None   SHARMA          0  1981-04-19             S  ...   \n",
      "18428          E    PEREZ          0  1979-12-09             M  ...   \n",
      "\n",
      "            AddressLine2                Phone DateFirstPurchase  \\\n",
      "1                   None  1 (11) 500 555-0110        2011-01-15   \n",
      "10                  None  1 (11) 500 555-0169        2011-01-14   \n",
      "22                  None         589-555-0185        2013-01-20   \n",
      "30                  None  1 (11) 500 555-0182        2011-02-05   \n",
      "32                  None  1 (11) 500 555-0169        2011-02-18   \n",
      "...                  ...                  ...               ...   \n",
      "18395               None  1 (11) 500 555-0182        2013-12-05   \n",
      "18397               None  1 (11) 500 555-0143        2012-08-08   \n",
      "18415               None  1 (11) 500 555-0112        2012-08-02   \n",
      "18418  Verkaufsabteilung  1 (11) 500 555-0134        2013-12-22   \n",
      "18428  Einkaufsabteilung  1 (11) 500 555-0183        2013-02-05   \n",
      "\n",
      "       CommuteDistance      Username               Domain internationaPrfx  \\\n",
      "1            0-1 Miles      eugene10  adventure-works.com                1   \n",
      "10          5-10 Miles   jacquelyn20  adventure-works.com                1   \n",
      "22          5-10 Miles       ethan20  adventure-works.com     589-555-0185   \n",
      "30           1-2 Miles     bethany10  adventure-works.com                1   \n",
      "32           1-2 Miles      denise10  adventure-works.com                1   \n",
      "...                ...           ...                  ...              ...   \n",
      "18395        1-2 Miles       lydia10  adventure-works.com                1   \n",
      "18397        0-1 Miles      walter10  adventure-works.com                1   \n",
      "18415        2-5 Miles       oscar20  adventure-works.com                1   \n",
      "18418       5-10 Miles     lindsey10  adventure-works.com                1   \n",
      "18428        1-2 Miles  kristopher20  adventure-works.com                1   \n",
      "\n",
      "      AreaPrfx LocalPrfx  PhNumber  \n",
      "1         (11)       500  555-0110  \n",
      "10        (11)       500  555-0169  \n",
      "22        None      None      None  \n",
      "30        (11)       500  555-0182  \n",
      "32        (11)       500  555-0169  \n",
      "...        ...       ...       ...  \n",
      "18395     (11)       500  555-0182  \n",
      "18397     (11)       500  555-0143  \n",
      "18415     (11)       500  555-0112  \n",
      "18418     (11)       500  555-0134  \n",
      "18428     (11)       500  555-0183  \n",
      "\n",
      "[1042 rows x 35 columns]>\n"
     ]
    }
   ],
   "source": [
    "\"\"\"\n",
    "    • Estraiamo tutti gli indirizzi e-mail che contengono il numero \"20\" oppure il numero \"10\"\n",
    "\"\"\"\n",
    "ten_or_twenty = dimcustomer[dimcustomer['EmailAddress'].str.contains('20|10')]\n",
    "print(ten_or_twenty.sample)"
   ]
  },
  {
   "cell_type": "code",
   "execution_count": 20,
   "id": "f6d9578a-14b1-49b0-bcd9-d567dec57206",
   "metadata": {},
   "outputs": [
    {
     "name": "stdout",
     "output_type": "stream",
     "text": [
      "       CustomerKey  GeographyKey CustomerAlternateKey Title    FirstName  \\\n",
      "979          11979            69           AW00011979  None  christopher   \n",
      "1767         12767           648           AW00012767  None  christopher   \n",
      "2655         13655           609           AW00013655  None  christopher   \n",
      "3512         14512           633           AW00014512  None  christopher   \n",
      "4772         15772           361           AW00015772  None  christopher   \n",
      "4973         15973           638           AW00015973  None  christopher   \n",
      "7755         18755            50           AW00018755  None  christopher   \n",
      "8768         19768           310           AW00019768  None  christopher   \n",
      "9242         20242            18           AW00020242  None  christopher   \n",
      "10233        21233           358           AW00021233  None  christopher   \n",
      "\n",
      "      MiddleName  LastName  NameStyle   BirthDate MaritalStatus  ...  \\\n",
      "979         None   JOHNSON          0  1962-11-05             M  ...   \n",
      "1767           A  ROBINSON          0  1960-05-02             M  ...   \n",
      "2655           L    WALKER          0  1951-12-31             M  ...   \n",
      "3512           J     JONES          0  1979-09-03             M  ...   \n",
      "4772        None  ANDERSON          0  1968-03-09             M  ...   \n",
      "4973        None    GARCIA          0  1942-05-23             M  ...   \n",
      "7755        None     LEWIS          0  1982-02-21             S  ...   \n",
      "8768           C   JACKSON          0  1986-04-15             S  ...   \n",
      "9242           M    THOMAS          0  1937-01-03             M  ...   \n",
      "10233          E     SMITH          0  1981-09-12             M  ...   \n",
      "\n",
      "                     Phone DateFirstPurchase CommuteDistance       Username  \\\n",
      "979           130-555-0198        2013-02-14       1-2 Miles  christopher25   \n",
      "1767          910-555-0123        2013-08-23      5-10 Miles  christopher18   \n",
      "2655          102-555-0150        2013-11-06      5-10 Miles  christopher23   \n",
      "3512          852-555-0198        2013-02-06       1-2 Miles  christopher27   \n",
      "4772          993-555-0186        2013-07-19       1-2 Miles  christopher10   \n",
      "4973          171-555-0119        2013-12-03       1-2 Miles  christopher16   \n",
      "7755          410-555-0143        2013-03-26      5-10 Miles  christopher21   \n",
      "8768          178-555-0116        2013-04-21       1-2 Miles  christopher12   \n",
      "9242   1 (11) 500 555-0137        2011-10-09       0-1 Miles  christopher11   \n",
      "10233         140-555-0128        2013-04-04       0-1 Miles  christopher24   \n",
      "\n",
      "                    Domain  internationaPrfx AreaPrfx LocalPrfx  PhNumber  \\\n",
      "979    adventure-works.com      130-555-0198     None      None      None   \n",
      "1767   adventure-works.com      910-555-0123     None      None      None   \n",
      "2655   adventure-works.com      102-555-0150     None      None      None   \n",
      "3512   adventure-works.com      852-555-0198     None      None      None   \n",
      "4772   adventure-works.com      993-555-0186     None      None      None   \n",
      "4973   adventure-works.com      171-555-0119     None      None      None   \n",
      "7755   adventure-works.com      410-555-0143     None      None      None   \n",
      "8768   adventure-works.com      178-555-0116     None      None      None   \n",
      "9242   adventure-works.com                 1     (11)       500  555-0137   \n",
      "10233  adventure-works.com      140-555-0128     None      None      None   \n",
      "\n",
      "      EmailLength  \n",
      "979            33  \n",
      "1767           33  \n",
      "2655           33  \n",
      "3512           33  \n",
      "4772           33  \n",
      "4973           33  \n",
      "7755           33  \n",
      "8768           33  \n",
      "9242           33  \n",
      "10233          33  \n",
      "\n",
      "[10 rows x 36 columns]\n",
      "       CustomerKey  GeographyKey CustomerAlternateKey Title FirstName  \\\n",
      "3974         14974           249           AW00014974   Mr.        k.   \n",
      "15299        26299           642           AW00026299  None        y.   \n",
      "8            11008            32           AW00011008  None       rob   \n",
      "53           11053           359           AW00011053  None       ana   \n",
      "215          11215            62           AW00011215  None       ana   \n",
      "550          11550           263           AW00011550  None       deb   \n",
      "710          11710           331           AW00011710  None       zoe   \n",
      "986          11986            34           AW00011986  None       max   \n",
      "1658         12658           279           AW00012658  None       joy   \n",
      "1899         12899           325           AW00012899  None       ana   \n",
      "\n",
      "      MiddleName LastName  NameStyle   BirthDate MaritalStatus  ...  \\\n",
      "3974        None  SARAVAN          0  1984-12-29             S  ...   \n",
      "15299         L.     YONG          0  1983-07-24             S  ...   \n",
      "8           None  VERHOFF          0  1975-07-04             S  ...   \n",
      "53             E    PRICE          0  1986-02-17             M  ...   \n",
      "215         None    PERRY          0  1961-06-17             M  ...   \n",
      "550         None   TORRES          0  1979-08-05             S  ...   \n",
      "710            R  RAMIREZ          0  1967-09-17             M  ...   \n",
      "986            M  ALVAREZ          0  1969-01-20             S  ...   \n",
      "1658           J    GOMEZ          0  1960-01-08             M  ...   \n",
      "1899           T     ROSS          0  1976-01-08             M  ...   \n",
      "\n",
      "                     Phone DateFirstPurchase CommuteDistance  Username  \\\n",
      "3974          156-555-0100        2013-03-31       0-1 Miles        k0   \n",
      "15299         856-555-0157        2012-02-15       0-1 Miles        y0   \n",
      "8      1 (11) 500 555-0164        2011-01-25       10+ Miles      rob4   \n",
      "53            859-555-0113        2013-01-17       1-2 Miles      ana0   \n",
      "215           446-555-0134        2013-02-15       10+ Miles      ana7   \n",
      "550    1 (11) 500 555-0125        2012-01-20       0-1 Miles      deb4   \n",
      "710           712-555-0144        2013-11-23       2-5 Miles      zoe6   \n",
      "986    1 (11) 500 555-0124        2011-11-22      5-10 Miles      max5   \n",
      "1658   1 (11) 500 555-0127        2012-09-10       0-1 Miles      joy2   \n",
      "1899          532-555-0185        2013-12-17       2-5 Miles      ana4   \n",
      "\n",
      "                    Domain  internationaPrfx AreaPrfx LocalPrfx  PhNumber  \\\n",
      "3974   adventure-works.com      156-555-0100     None      None      None   \n",
      "15299  adventure-works.com      856-555-0157     None      None      None   \n",
      "8      adventure-works.com                 1     (11)       500  555-0164   \n",
      "53     adventure-works.com      859-555-0113     None      None      None   \n",
      "215    adventure-works.com      446-555-0134     None      None      None   \n",
      "550    adventure-works.com                 1     (11)       500  555-0125   \n",
      "710    adventure-works.com      712-555-0144     None      None      None   \n",
      "986    adventure-works.com                 1     (11)       500  555-0124   \n",
      "1658   adventure-works.com                 1     (11)       500  555-0127   \n",
      "1899   adventure-works.com      532-555-0185     None      None      None   \n",
      "\n",
      "      EmailLength  \n",
      "3974           22  \n",
      "15299          22  \n",
      "8              24  \n",
      "53             24  \n",
      "215            24  \n",
      "550            24  \n",
      "710            24  \n",
      "986            24  \n",
      "1658           24  \n",
      "1899           24  \n",
      "\n",
      "[10 rows x 36 columns]\n"
     ]
    }
   ],
   "source": [
    "\"\"\"\n",
    "    • Calcolare la lunghezza di ogni indirizzo e-mail ed estrarre i dieci più lunghi e i dieci più corti\n",
    "\"\"\"\n",
    "dimcustomer['EmailLength'] = dimcustomer['EmailAddress'].str.len()\n",
    "longest_ten = dimcustomer.nlargest(10, 'EmailLength')\n",
    "shortest_ten = dimcustomer.nsmallest(10, 'EmailLength')\n",
    "print(longest_ten)\n",
    "print(shortest_ten)"
   ]
  },
  {
   "cell_type": "code",
   "execution_count": 21,
   "id": "86c6d4df-1d4b-492c-865b-780dade77171",
   "metadata": {},
   "outputs": [
    {
     "name": "stdout",
     "output_type": "stream",
     "text": [
      "      CustomerKey  GeographyKey CustomerAlternateKey Title FirstName  \\\n",
      "7386        18386           316           AW00018386  None     kevin   \n",
      "\n",
      "     MiddleName LastName  NameStyle   BirthDate MaritalStatus  ...  \\\n",
      "7386       None     SHAN          0  1968-11-22             M  ...   \n",
      "\n",
      "             Phone DateFirstPurchase CommuteDistance  Username  \\\n",
      "7386  125-555-0141        2013-12-10      5-10 Miles   kevin34   \n",
      "\n",
      "                   Domain  internationaPrfx AreaPrfx LocalPrfx PhNumber  \\\n",
      "7386  adventure-works.com      125-555-0141     None      None     None   \n",
      "\n",
      "     EmailLength  \n",
      "7386          27  \n",
      "\n",
      "[1 rows x 36 columns]\n"
     ]
    }
   ],
   "source": [
    "\"\"\"• Modificare il dominio degli indirizzi e-mail da \"adventure-works.com\" a \"aw-db.com\" mediante il metodo .str.replace()\n",
    "\"\"\"\n",
    "dimcustomer['EmailAddress'] = dimcustomer['EmailAddress'].str.replace('adventure-works.com', 'aw-db.com')\n",
    "print(dimcustomer.sample())"
   ]
  },
  {
   "cell_type": "code",
   "execution_count": 23,
   "id": "70532f29-1c58-4408-9710-6ab50a3ecc12",
   "metadata": {},
   "outputs": [
    {
     "name": "stdout",
     "output_type": "stream",
     "text": [
      "       CustomerKey  GeographyKey CustomerAlternateKey Title FirstName  \\\n",
      "7            11007            40           AW00011007  None     marco   \n",
      "12           11012           611           AW00011012  None    lauren   \n",
      "32           11032            35           AW00011032  None    denise   \n",
      "63           11063           634           AW00011063  None    angela   \n",
      "125          11125            37           AW00011125  None      dana   \n",
      "...            ...           ...                  ...   ...       ...   \n",
      "18273        29273           298           AW00029273  None   timothy   \n",
      "18292        29292            34           AW00029292  None     diana   \n",
      "18323        29323            60           AW00029323  None    andrea   \n",
      "18333        29333            27           AW00029333  None      abby   \n",
      "18351        29351            49           AW00029351  None     jason   \n",
      "\n",
      "      MiddleName   LastName  NameStyle   BirthDate MaritalStatus  ...  \\\n",
      "7           None      MEHTA          0  1969-11-06             M  ...   \n",
      "12             M     WALKER          0  1979-01-14             M  ...   \n",
      "32          None      STONE          0  1952-12-08             M  ...   \n",
      "63          None     MURPHY          0  1980-10-04             S  ...   \n",
      "125            J    NAVARRO          0  1961-10-06             S  ...   \n",
      "...          ...        ...        ...         ...           ...  ...   \n",
      "18273          O      LOPEZ          0  1971-02-08             M  ...   \n",
      "18292          L  DOMINGUEZ          0  1978-01-03             S  ...   \n",
      "18323       None     COOPER          0  1981-09-12             S  ...   \n",
      "18333       None   MARTINEZ          0  1943-03-10             S  ...   \n",
      "18351          A       HALL          0  1970-12-24             S  ...   \n",
      "\n",
      "                     Phone DateFirstPurchase CommuteDistance   Username  \\\n",
      "7      1 (11) 500 555-0126        2011-01-09       0-1 Miles    marco14   \n",
      "12            717-555-0164        2013-03-16       1-2 Miles   lauren41   \n",
      "32     1 (11) 500 555-0169        2011-02-18       1-2 Miles   denise10   \n",
      "63            451-555-0162        2013-01-12      5-10 Miles   angela41   \n",
      "125    1 (11) 500 555-0172        2013-01-31      5-10 Miles      dana2   \n",
      "...                    ...               ...             ...        ...   \n",
      "18273         137-555-0130        2013-08-26      5-10 Miles  timothy38   \n",
      "18292  1 (11) 500 555-0117        2013-04-07       0-1 Miles    diana12   \n",
      "18323         586-555-0120        2013-08-13      5-10 Miles   andrea17   \n",
      "18333  1 (11) 500 555-0150        2013-03-08       0-1 Miles     abby15   \n",
      "18351         158-555-0156        2013-10-11       0-1 Miles    jason49   \n",
      "\n",
      "                    Domain  internationaPrfx AreaPrfx LocalPrfx  PhNumber  \\\n",
      "7      adventure-works.com                 1     (11)       500  555-0126   \n",
      "12     adventure-works.com      717-555-0164     None      None      None   \n",
      "32     adventure-works.com                 1     (11)       500  555-0169   \n",
      "63     adventure-works.com      451-555-0162     None      None      None   \n",
      "125    adventure-works.com                 1     (11)       500  555-0172   \n",
      "...                    ...               ...      ...       ...       ...   \n",
      "18273  adventure-works.com      137-555-0130     None      None      None   \n",
      "18292  adventure-works.com                 1     (11)       500  555-0117   \n",
      "18323  adventure-works.com      586-555-0120     None      None      None   \n",
      "18333  adventure-works.com                 1     (11)       500  555-0150   \n",
      "18351  adventure-works.com      158-555-0156     None      None      None   \n",
      "\n",
      "      EmailLength  \n",
      "7              27  \n",
      "12             28  \n",
      "32             28  \n",
      "63             28  \n",
      "125            25  \n",
      "...           ...  \n",
      "18273          29  \n",
      "18292          27  \n",
      "18323          28  \n",
      "18333          26  \n",
      "18351          27  \n",
      "\n",
      "[512 rows x 36 columns]\n"
     ]
    }
   ],
   "source": [
    "\"\"\"\n",
    "    • Dalla colonna AddressLine1 estraiamo tutti gli indirizzi che contengono la sottostringa \"Street\"\n",
    "\"\"\"\n",
    "contains_street = dimcustomer[dimcustomer['AddressLine1'].str.contains('Street')]\n",
    "print(contains_street)"
   ]
  },
  {
   "cell_type": "code",
   "execution_count": 25,
   "id": "2b8de9df-d272-4f60-b81d-bb3f03b4fda4",
   "metadata": {},
   "outputs": [
    {
     "name": "stdout",
     "output_type": "stream",
     "text": [
      "<class 'pandas.core.frame.DataFrame'>\n",
      "RangeIndex: 7050 entries, 0 to 7049\n",
      "Data columns (total 12 columns):\n",
      " #   Column            Non-Null Count  Dtype         \n",
      "---  ------            --------------  -----         \n",
      " 0   status_id         7050 non-null   object        \n",
      " 1   status_type       7050 non-null   object        \n",
      " 2   status_published  7050 non-null   datetime64[ns]\n",
      " 3   num_reactions     7050 non-null   int64         \n",
      " 4   num_comments      7050 non-null   int64         \n",
      " 5   num_shares        7050 non-null   int64         \n",
      " 6   num_likes         7050 non-null   int64         \n",
      " 7   num_loves         7050 non-null   int64         \n",
      " 8   num_wows          7050 non-null   int64         \n",
      " 9   num_hahas         7050 non-null   int64         \n",
      " 10  num_sads          7050 non-null   int64         \n",
      " 11  num_angrys        7050 non-null   int64         \n",
      "dtypes: datetime64[ns](1), int64(9), object(2)\n",
      "memory usage: 661.1+ KB\n"
     ]
    }
   ],
   "source": [
    "\"\"\"\n",
    "    Dai beginner_datasets carichiamo in un DataFrame il file facebook.csv, che contiene dei post con data \n",
    "    di pubblicazione, tipo (foto, video, …) e numero di reactions raccolte: \n",
    "    • Con la funzione pd.to_datetime() convertiamo la colonna status_published in formato Timestamp \n",
    "\"\"\"\n",
    "facebook = pd.read_csv(\"facebook.csv\")\n",
    "facebook[\"status_published\"] = pd.to_datetime(facebook[\"status_published\"])\n",
    "facebook.info()"
   ]
  },
  {
   "cell_type": "code",
   "execution_count": 26,
   "id": "f050845a-9964-4962-9254-dd352de4a395",
   "metadata": {},
   "outputs": [
    {
     "name": "stdout",
     "output_type": "stream",
     "text": [
      "0       2018/04/22 06:00:00\n",
      "1       2018/04/21 22:45:00\n",
      "2       2018/04/21 06:17:00\n",
      "3       2018/04/21 02:29:00\n",
      "4       2018/04/18 03:22:00\n",
      "               ...         \n",
      "7045    2016/09/24 02:58:00\n",
      "7046    2016/09/23 11:19:00\n",
      "7047    2016/09/21 23:03:00\n",
      "7048    2016/09/20 00:43:00\n",
      "7049    2016/09/10 10:30:00\n",
      "Name: status_published, Length: 7050, dtype: object\n"
     ]
    }
   ],
   "source": [
    "\n",
    "\"\"\"\n",
    "    • Utilizzando il metodo .df.strftime(), formatta le date delle pubblicazioni in un formato specifico (ad esempio, \"%Y-%m-%d %H:%M:%S\"). \n",
    "\"\"\"    \n",
    "mod = facebook[\"status_published\"].dt.strftime(\"%Y/%m/%d %H:%M:%S\")\n",
    "print(mod)"
   ]
  },
  {
   "cell_type": "code",
   "execution_count": 27,
   "id": "ae3236c3-3c5b-4b56-8c92-5a09052a536a",
   "metadata": {},
   "outputs": [],
   "source": [
    "\"\"\"\n",
    "    • Utilizzando gli attributi .dt.year , .dt.month , .dt.day , .dt.dayofweek , .dt.dayofyear, ottieniamo informazioni specifiche \n",
    "    sulle date delle transazioni, come l'anno, il mese, il giorno della settimana, il giorno dell'anno, ecc.\n",
    "\"\"\"\n",
    "\n",
    "anni = facebook[\"status_published\"].dt.year\n",
    "mesi = facebook[\"status_published\"].dt.month\n",
    "giorni = facebook[\"status_published\"].dt.day\n",
    "giorni_settimana = facebook[\"status_published\"].dt.dayofweek\n",
    "giorni_anno = facebook[\"status_published\"].dt.day_of_year\n"
   ]
  },
  {
   "cell_type": "code",
   "execution_count": 28,
   "id": "02fc768a-107c-424d-ae10-2a8654ffe43b",
   "metadata": {},
   "outputs": [],
   "source": [
    "\"\"\"    \n",
    "    • Estraiamo solo i post relativi al 2012 \n",
    "    \n",
    "\"\"\" \n",
    "twoth_twelve = facebook[facebook[\"status_published\"].dt.year == 2012]"
   ]
  },
  {
   "cell_type": "code",
   "execution_count": 29,
   "id": "520f47f0-01c5-4a7f-8459-ee87640de7d1",
   "metadata": {},
   "outputs": [],
   "source": [
    "\"\"\"\n",
    "•Estraiamo solo i post relativi a maggio 2018   \n",
    "\"\"\"\n",
    "may_eighteen = facebook[(facebook[\"status_published\"].dt.year == 2018) & (facebook[\"status_published\"].dt.month == 5)]"
   ]
  },
  {
   "cell_type": "code",
   "execution_count": 30,
   "id": "cb688e2a-6e13-4c51-8e13-67db8aa7a27a",
   "metadata": {},
   "outputs": [],
   "source": [
    "\"\"\"\n",
    "    • Troviamo il primo e ultimo post pubblicati in ogni anno \n",
    "\"\"\"\n",
    "weekends = giorni_settimana[5] + giorni_settimana[6]\n",
    "resto_settimana = giorni_settimana.sum() - weekends"
   ]
  },
  {
   "cell_type": "code",
   "execution_count": 31,
   "id": "77f0c447-05c0-4980-a070-3667e1698308",
   "metadata": {},
   "outputs": [
    {
     "name": "stdout",
     "output_type": "stream",
     "text": [
      "0      2018-04-22 06:00:00+00:00\n",
      "1      2018-04-21 22:45:00+00:00\n",
      "2      2018-04-21 06:17:00+00:00\n",
      "3      2018-04-21 02:29:00+00:00\n",
      "4      2018-04-18 03:22:00+00:00\n",
      "                  ...           \n",
      "7045   2016-09-24 02:58:00+00:00\n",
      "7046   2016-09-23 11:19:00+00:00\n",
      "7047   2016-09-21 23:03:00+00:00\n",
      "7048   2016-09-20 00:43:00+00:00\n",
      "7049   2016-09-10 10:30:00+00:00\n",
      "Name: status_published, Length: 7050, dtype: datetime64[ns, UTC]\n"
     ]
    }
   ],
   "source": [
    "\"\"\"\n",
    "    • Utilizzando il metodo .tz_localize(), aggiungiamo un fuso orario alle date delle transazioni \n",
    "\"\"\"\n",
    "facebook[\"status_published\"] = facebook[\"status_published\"].dt.tz_localize(\"UTC\")\n",
    "print(facebook[\"status_published\"])"
   ]
  },
  {
   "cell_type": "code",
   "execution_count": 35,
   "id": "bd576957-89ef-4f62-9745-7d66996d585d",
   "metadata": {},
   "outputs": [
    {
     "name": "stdout",
     "output_type": "stream",
     "text": [
      "178 days 16:53:00\n"
     ]
    }
   ],
   "source": [
    "\"\"\"\n",
    "    • Calcoliamo la differenza di tempo tra due transazioni \n",
    "\"\"\"\n",
    "from random import randint\n",
    "print(facebook.iloc[1][\"status_published\"] - facebook.iloc[randint(1,7050)][\"status_published\"])                                                                                                                                            \n",
    "    "
   ]
  },
  {
   "cell_type": "code",
   "execution_count": 33,
   "id": "aa250a81-cfb6-4f7a-be85-1987f5af13e0",
   "metadata": {},
   "outputs": [
    {
     "name": "stdout",
     "output_type": "stream",
     "text": [
      "       num_reactions  num_comments   num_shares    num_likes    num_loves  \\\n",
      "count    7050.000000   7050.000000  7050.000000  7050.000000  7050.000000   \n",
      "mean      230.117163    224.356028    40.022553   215.043121    12.728652   \n",
      "std       462.625309    889.636820   131.599965   449.472357    39.972930   \n",
      "min         0.000000      0.000000     0.000000     0.000000     0.000000   \n",
      "25%        17.000000      0.000000     0.000000    17.000000     0.000000   \n",
      "50%        59.500000      4.000000     0.000000    58.000000     0.000000   \n",
      "75%       219.000000     23.000000     4.000000   184.750000     3.000000   \n",
      "max      4710.000000  20990.000000  3424.000000  4710.000000   657.000000   \n",
      "\n",
      "          num_wows    num_hahas     num_sads   num_angrys  \n",
      "count  7050.000000  7050.000000  7050.000000  7050.000000  \n",
      "mean      1.289362     0.696454     0.243688     0.113191  \n",
      "std       8.719650     3.957183     1.597156     0.726812  \n",
      "min       0.000000     0.000000     0.000000     0.000000  \n",
      "25%       0.000000     0.000000     0.000000     0.000000  \n",
      "50%       0.000000     0.000000     0.000000     0.000000  \n",
      "75%       0.000000     0.000000     0.000000     0.000000  \n",
      "max     278.000000   157.000000    51.000000    31.000000  \n"
     ]
    }
   ],
   "source": [
    "\"\"\"    \n",
    "    • Quanti tipi di post ci sono? E quanti per ogni tipo? \n",
    "\"\"\"    \n",
    "print(facebook.describe())"
   ]
  },
  {
   "cell_type": "code",
   "execution_count": null,
   "id": "ccf6c591-2cbf-49c5-89ec-775fe2169822",
   "metadata": {},
   "outputs": [],
   "source": [
    "\"\"\"\n",
    "    Dai beginner_dataset carichiamo in un DataFrame il file pokemon.csv: \n",
    "    • Tramite i metodi .isnull() e .sum() controlliamo se ci sono valori nulli nel dataset e \n",
    "    contiamo quanti valori nulli ci sono in ogni colonna \n",
    "    • Ci sono valori nulli? \n",
    "    • Eliminiamo le righe che contengono valori nulli\n",
    "\"\"\"\n",
    "\n",
    "pokemon = pd.read_csv(\"pokemon.csv\")\n",
    "\n",
    "print(pokemon.isnull().count())\n",
    "\n",
    "pokemon.dropna(inplace=True)\n",
    "\n",
    "print(pokemon.isnull().count())"
   ]
  },
  {
   "cell_type": "code",
   "execution_count": 37,
   "id": "4f37d6a4-c73d-45c3-b0bd-8754865db922",
   "metadata": {},
   "outputs": [
    {
     "name": "stdout",
     "output_type": "stream",
     "text": [
      "symboling             0\n",
      "normalized-losses    37\n",
      "make                  0\n",
      "fuel-type             0\n",
      "aspiration            0\n",
      "num-of-doors          2\n",
      "body-style            0\n",
      "drive-wheels          0\n",
      "engine-location       0\n",
      "wheel-base            0\n",
      "length                0\n",
      "width                 0\n",
      "height                0\n",
      "curb-weight           0\n",
      "engine-type           0\n",
      "num-of-cylinders      0\n",
      "engine-size           0\n",
      "fuel-system           0\n",
      "bore                  0\n",
      "stroke                0\n",
      "compression-ratio     0\n",
      "horsepower            0\n",
      "peak-rpm              0\n",
      "city-mpg              0\n",
      "highway-mpg           0\n",
      "price                 0\n",
      "dtype: int64\n"
     ]
    }
   ],
   "source": [
    "\"\"\"\n",
    "    Dai beginner_dataset carichiamo in un DataFrame il file automobile.csv:\n",
    "    • Ci sono valori nulli? Dove? Quanti? \n",
    "\"\"\"\n",
    "auto = pd.read_csv(\"automobile.csv\")\n",
    "\n",
    "print(auto.isnull().sum())\n"
   ]
  },
  {
   "cell_type": "code",
   "execution_count": 38,
   "id": "efe0ada6-4156-48a5-a292-c7f60b84d29f",
   "metadata": {},
   "outputs": [
    {
     "name": "stdout",
     "output_type": "stream",
     "text": [
      "Index([26, 60], dtype='int64')\n"
     ]
    }
   ],
   "source": [
    "\"\"\"\n",
    "    • Quali righe hanno un valore nullo nella colonna num-of-doors? \n",
    "\"\"\"    \n",
    "print(auto[auto['num-of-doors'].isnull()].index)"
   ]
  },
  {
   "cell_type": "code",
   "execution_count": 53,
   "id": "d96fab45-43db-4e51-a2a5-61c6b56d38e3",
   "metadata": {},
   "outputs": [
    {
     "data": {
      "text/plain": [
       "'\\n        • Il sensore a volte non funziona, dunque alcuni dati sono mancanti: quale sarebbe la migliore strategia per gestirli? \\n'"
      ]
     },
     "execution_count": 53,
     "metadata": {},
     "output_type": "execute_result"
    }
   ],
   "source": [
    "\"\"\"\n",
    "    Abbiamo il seguente DataFrame che raccoglie le misurazioni di un sensore che misura la temperatura atmosferica giornaliera:\n",
    "\"\"\"\n",
    "import numpy as np, pandas as pd \n",
    "temp = pd.DataFrame({\n",
    "                        \"Giorno\": [0, 1, 2, 3, 4, 5, 6 ,7, 8, 9, 10, 11, 12],       \n",
    "                        \"Temperature\": [18, 19, 18, np.nan, 21, 20, 20, np.nan, 21, 23, np.nan, 23, 24]\n",
    "                    }) \n",
    "\"\"\"\n",
    "        • Il sensore a volte non funziona, dunque alcuni dati sono mancanti: quale sarebbe la migliore strategia per gestirli? \n",
    "\"\"\"\n",
    "\n"
   ]
  },
  {
   "cell_type": "code",
   "execution_count": 54,
   "id": "ce86fda5-21c5-46df-9ee8-9039c37af721",
   "metadata": {},
   "outputs": [
    {
     "name": "stdout",
     "output_type": "stream",
     "text": [
      "0     18.0\n",
      "1     19.0\n",
      "2     18.0\n",
      "3     20.7\n",
      "4     21.0\n",
      "5     20.0\n",
      "6     20.0\n",
      "7     20.7\n",
      "8     21.0\n",
      "9     23.0\n",
      "10    20.7\n",
      "11    23.0\n",
      "12    24.0\n",
      "Name: Temperature, dtype: float64\n"
     ]
    }
   ],
   "source": [
    "media = temp[\"Temperature\"].mean()\n",
    "temp = temp['Temperature'].fillna(media)\n",
    "print(temp)"
   ]
  },
  {
   "cell_type": "code",
   "execution_count": null,
   "id": "75cc8d45-03fc-4394-8f39-ecb4dc66859c",
   "metadata": {},
   "outputs": [],
   "source": []
  }
 ],
 "metadata": {
  "kernelspec": {
   "display_name": "Python 3 (ipykernel)",
   "language": "python",
   "name": "python3"
  },
  "language_info": {
   "codemirror_mode": {
    "name": "ipython",
    "version": 3
   },
   "file_extension": ".py",
   "mimetype": "text/x-python",
   "name": "python",
   "nbconvert_exporter": "python",
   "pygments_lexer": "ipython3",
   "version": "3.10.12"
  }
 },
 "nbformat": 4,
 "nbformat_minor": 5
}
