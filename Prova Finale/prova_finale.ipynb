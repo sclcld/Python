{
 "cells": [
  {
   "cell_type": "code",
   "execution_count": 294,
   "id": "491d0248-be5f-478e-87d9-5fbf1cb606a6",
   "metadata": {},
   "outputs": [],
   "source": [
    "import pandas as pd\n",
    "\n",
    "\n",
    "df = pd.read_csv(\"owid-covid-data.csv\")\n",
    "\n",
    "df_shape = df.shape"
   ]
  },
  {
   "cell_type": "code",
   "execution_count": 295,
   "id": "25efd295-c6f0-42bb-bd6f-f6f9a224bf6b",
   "metadata": {},
   "outputs": [
    {
     "name": "stdout",
     "output_type": "stream",
     "text": [
      "il data frame è composto da 387330 righe e 67 colonne\n"
     ]
    }
   ],
   "source": [
    "print(f\"il data frame è composto da {df_shape[0]} righe e {df_shape[1]} colonne\")"
   ]
  },
  {
   "cell_type": "code",
   "execution_count": 296,
   "id": "6d4d9a1d-721a-4c75-a01b-a6439cf78f74",
   "metadata": {},
   "outputs": [
    {
     "name": "stdout",
     "output_type": "stream",
     "text": [
      "<class 'pandas.core.frame.DataFrame'>\n",
      "RangeIndex: 387330 entries, 0 to 387329\n",
      "Data columns (total 67 columns):\n",
      " #   Column                                      Non-Null Count   Dtype  \n",
      "---  ------                                      --------------   -----  \n",
      " 0   iso_code                                    387330 non-null  object \n",
      " 1   continent                                   368774 non-null  object \n",
      " 2   location                                    387330 non-null  object \n",
      " 3   date                                        387330 non-null  object \n",
      " 4   total_cases                                 348333 non-null  float64\n",
      " 5   new_cases                                   376280 non-null  float64\n",
      " 6   new_cases_smoothed                          375050 non-null  float64\n",
      " 7   total_deaths                                326109 non-null  float64\n",
      " 8   new_deaths                                  376589 non-null  float64\n",
      " 9   new_deaths_smoothed                         375359 non-null  float64\n",
      " 10  total_cases_per_million                     348333 non-null  float64\n",
      " 11  new_cases_per_million                       376280 non-null  float64\n",
      " 12  new_cases_smoothed_per_million              375050 non-null  float64\n",
      " 13  total_deaths_per_million                    326109 non-null  float64\n",
      " 14  new_deaths_per_million                      376589 non-null  float64\n",
      " 15  new_deaths_smoothed_per_million             375359 non-null  float64\n",
      " 16  reproduction_rate                           184817 non-null  float64\n",
      " 17  icu_patients                                38656 non-null   float64\n",
      " 18  icu_patients_per_million                    38656 non-null   float64\n",
      " 19  hosp_patients                               40194 non-null   float64\n",
      " 20  hosp_patients_per_million                   40194 non-null   float64\n",
      " 21  weekly_icu_admissions                       10691 non-null   float64\n",
      " 22  weekly_icu_admissions_per_million           10691 non-null   float64\n",
      " 23  weekly_hosp_admissions                      24171 non-null   float64\n",
      " 24  weekly_hosp_admissions_per_million          24171 non-null   float64\n",
      " 25  total_tests                                 79387 non-null   float64\n",
      " 26  new_tests                                   75403 non-null   float64\n",
      " 27  total_tests_per_thousand                    79387 non-null   float64\n",
      " 28  new_tests_per_thousand                      75403 non-null   float64\n",
      " 29  new_tests_smoothed                          103965 non-null  float64\n",
      " 30  new_tests_smoothed_per_thousand             103965 non-null  float64\n",
      " 31  positive_rate                               95927 non-null   float64\n",
      " 32  tests_per_case                              94348 non-null   float64\n",
      " 33  tests_units                                 106788 non-null  object \n",
      " 34  total_vaccinations                          83363 non-null   float64\n",
      " 35  people_vaccinated                           79239 non-null   float64\n",
      " 36  people_fully_vaccinated                     76123 non-null   float64\n",
      " 37  total_boosters                              51548 non-null   float64\n",
      " 38  new_vaccinations                            69093 non-null   float64\n",
      " 39  new_vaccinations_smoothed                   190100 non-null  float64\n",
      " 40  total_vaccinations_per_hundred              83363 non-null   float64\n",
      " 41  people_vaccinated_per_hundred               79239 non-null   float64\n",
      " 42  people_fully_vaccinated_per_hundred         76123 non-null   float64\n",
      " 43  total_boosters_per_hundred                  51548 non-null   float64\n",
      " 44  new_vaccinations_smoothed_per_million       190100 non-null  float64\n",
      " 45  new_people_vaccinated_smoothed              187453 non-null  float64\n",
      " 46  new_people_vaccinated_smoothed_per_hundred  187453 non-null  float64\n",
      " 47  stringency_index                            197292 non-null  float64\n",
      " 48  population_density                          329303 non-null  float64\n",
      " 49  median_age                                  306108 non-null  float64\n",
      " 50  aged_65_older                               295555 non-null  float64\n",
      " 51  aged_70_older                               303040 non-null  float64\n",
      " 52  gdp_per_capita                              300145 non-null  float64\n",
      " 53  extreme_poverty                             193483 non-null  float64\n",
      " 54  cardiovasc_death_rate                       300731 non-null  float64\n",
      " 55  diabetes_prevalence                         316236 non-null  float64\n",
      " 56  female_smokers                              225751 non-null  float64\n",
      " 57  male_smokers                                222683 non-null  float64\n",
      " 58  handwashing_facilities                      147332 non-null  float64\n",
      " 59  hospital_beds_per_thousand                  265635 non-null  float64\n",
      " 60  life_expectancy                             356730 non-null  float64\n",
      " 61  human_development_index                     291692 non-null  float64\n",
      " 62  population                                  387330 non-null  float64\n",
      " 63  excess_mortality_cumulative_absolute        13187 non-null   float64\n",
      " 64  excess_mortality_cumulative                 13187 non-null   float64\n",
      " 65  excess_mortality                            13187 non-null   float64\n",
      " 66  excess_mortality_cumulative_per_million     13187 non-null   float64\n",
      "dtypes: float64(62), object(5)\n",
      "memory usage: 198.0+ MB\n"
     ]
    }
   ],
   "source": [
    "df.info()"
   ]
  },
  {
   "cell_type": "code",
   "execution_count": 297,
   "id": "b21ead7b-cac9-4a74-92da-9c7de597aa03",
   "metadata": {},
   "outputs": [
    {
     "data": {
      "text/html": [
       "<div>\n",
       "<style scoped>\n",
       "    .dataframe tbody tr th:only-of-type {\n",
       "        vertical-align: middle;\n",
       "    }\n",
       "\n",
       "    .dataframe tbody tr th {\n",
       "        vertical-align: top;\n",
       "    }\n",
       "\n",
       "    .dataframe thead th {\n",
       "        text-align: right;\n",
       "    }\n",
       "</style>\n",
       "<table border=\"1\" class=\"dataframe\">\n",
       "  <thead>\n",
       "    <tr style=\"text-align: right;\">\n",
       "      <th></th>\n",
       "      <th>total_cases</th>\n",
       "      <th>new_cases</th>\n",
       "      <th>new_cases_smoothed</th>\n",
       "      <th>total_deaths</th>\n",
       "      <th>new_deaths</th>\n",
       "      <th>new_deaths_smoothed</th>\n",
       "      <th>total_cases_per_million</th>\n",
       "      <th>new_cases_per_million</th>\n",
       "      <th>new_cases_smoothed_per_million</th>\n",
       "      <th>total_deaths_per_million</th>\n",
       "      <th>...</th>\n",
       "      <th>male_smokers</th>\n",
       "      <th>handwashing_facilities</th>\n",
       "      <th>hospital_beds_per_thousand</th>\n",
       "      <th>life_expectancy</th>\n",
       "      <th>human_development_index</th>\n",
       "      <th>population</th>\n",
       "      <th>excess_mortality_cumulative_absolute</th>\n",
       "      <th>excess_mortality_cumulative</th>\n",
       "      <th>excess_mortality</th>\n",
       "      <th>excess_mortality_cumulative_per_million</th>\n",
       "    </tr>\n",
       "  </thead>\n",
       "  <tbody>\n",
       "    <tr>\n",
       "      <th>count</th>\n",
       "      <td>3.483330e+05</td>\n",
       "      <td>3.762800e+05</td>\n",
       "      <td>3.750500e+05</td>\n",
       "      <td>3.261090e+05</td>\n",
       "      <td>376589.000000</td>\n",
       "      <td>375359.000000</td>\n",
       "      <td>348333.000000</td>\n",
       "      <td>376280.000000</td>\n",
       "      <td>375050.000000</td>\n",
       "      <td>326109.000000</td>\n",
       "      <td>...</td>\n",
       "      <td>222683.000000</td>\n",
       "      <td>147332.000000</td>\n",
       "      <td>265635.000000</td>\n",
       "      <td>356730.000000</td>\n",
       "      <td>291692.000000</td>\n",
       "      <td>3.873300e+05</td>\n",
       "      <td>1.318700e+04</td>\n",
       "      <td>13187.000000</td>\n",
       "      <td>13187.000000</td>\n",
       "      <td>13187.000000</td>\n",
       "    </tr>\n",
       "    <tr>\n",
       "      <th>mean</th>\n",
       "      <td>7.386532e+06</td>\n",
       "      <td>8.728781e+03</td>\n",
       "      <td>8.756916e+03</td>\n",
       "      <td>8.996469e+04</td>\n",
       "      <td>78.157939</td>\n",
       "      <td>78.405166</td>\n",
       "      <td>112347.967657</td>\n",
       "      <td>132.572340</td>\n",
       "      <td>133.002194</td>\n",
       "      <td>918.307054</td>\n",
       "      <td>...</td>\n",
       "      <td>32.910922</td>\n",
       "      <td>50.793168</td>\n",
       "      <td>3.097544</td>\n",
       "      <td>73.712526</td>\n",
       "      <td>0.722586</td>\n",
       "      <td>1.292804e+08</td>\n",
       "      <td>5.579910e+04</td>\n",
       "      <td>9.770265</td>\n",
       "      <td>10.979027</td>\n",
       "      <td>1777.206419</td>\n",
       "    </tr>\n",
       "    <tr>\n",
       "      <th>std</th>\n",
       "      <td>4.398509e+07</td>\n",
       "      <td>2.397048e+05</td>\n",
       "      <td>9.038526e+04</td>\n",
       "      <td>4.566992e+05</td>\n",
       "      <td>1424.517554</td>\n",
       "      <td>534.387547</td>\n",
       "      <td>160036.519608</td>\n",
       "      <td>1544.311765</td>\n",
       "      <td>571.529927</td>\n",
       "      <td>1131.569486</td>\n",
       "      <td>...</td>\n",
       "      <td>13.572648</td>\n",
       "      <td>31.952844</td>\n",
       "      <td>2.548154</td>\n",
       "      <td>7.394828</td>\n",
       "      <td>0.149001</td>\n",
       "      <td>6.634103e+08</td>\n",
       "      <td>1.559496e+05</td>\n",
       "      <td>12.022926</td>\n",
       "      <td>24.585788</td>\n",
       "      <td>1992.786873</td>\n",
       "    </tr>\n",
       "    <tr>\n",
       "      <th>min</th>\n",
       "      <td>1.000000e+00</td>\n",
       "      <td>0.000000e+00</td>\n",
       "      <td>0.000000e+00</td>\n",
       "      <td>1.000000e+00</td>\n",
       "      <td>0.000000</td>\n",
       "      <td>0.000000</td>\n",
       "      <td>0.000000</td>\n",
       "      <td>0.000000</td>\n",
       "      <td>0.000000</td>\n",
       "      <td>0.000000</td>\n",
       "      <td>...</td>\n",
       "      <td>7.700000</td>\n",
       "      <td>1.188000</td>\n",
       "      <td>0.100000</td>\n",
       "      <td>53.280000</td>\n",
       "      <td>0.394000</td>\n",
       "      <td>4.700000e+01</td>\n",
       "      <td>-3.772610e+04</td>\n",
       "      <td>-44.230000</td>\n",
       "      <td>-95.920000</td>\n",
       "      <td>-2936.453100</td>\n",
       "    </tr>\n",
       "    <tr>\n",
       "      <th>25%</th>\n",
       "      <td>9.448000e+03</td>\n",
       "      <td>0.000000e+00</td>\n",
       "      <td>0.000000e+00</td>\n",
       "      <td>1.360000e+02</td>\n",
       "      <td>0.000000</td>\n",
       "      <td>0.000000</td>\n",
       "      <td>2954.509000</td>\n",
       "      <td>0.000000</td>\n",
       "      <td>0.000000</td>\n",
       "      <td>65.307000</td>\n",
       "      <td>...</td>\n",
       "      <td>22.600000</td>\n",
       "      <td>20.859000</td>\n",
       "      <td>1.300000</td>\n",
       "      <td>69.590000</td>\n",
       "      <td>0.602000</td>\n",
       "      <td>4.490020e+05</td>\n",
       "      <td>1.781000e+02</td>\n",
       "      <td>2.080000</td>\n",
       "      <td>-1.490000</td>\n",
       "      <td>120.205410</td>\n",
       "    </tr>\n",
       "    <tr>\n",
       "      <th>50%</th>\n",
       "      <td>7.971300e+04</td>\n",
       "      <td>0.000000e+00</td>\n",
       "      <td>1.700000e+01</td>\n",
       "      <td>1.393000e+03</td>\n",
       "      <td>0.000000</td>\n",
       "      <td>0.143000</td>\n",
       "      <td>32240.542000</td>\n",
       "      <td>0.000000</td>\n",
       "      <td>4.197000</td>\n",
       "      <td>414.035000</td>\n",
       "      <td>...</td>\n",
       "      <td>33.100000</td>\n",
       "      <td>49.839000</td>\n",
       "      <td>2.500000</td>\n",
       "      <td>75.050000</td>\n",
       "      <td>0.740000</td>\n",
       "      <td>5.882259e+06</td>\n",
       "      <td>6.694300e+03</td>\n",
       "      <td>8.150000</td>\n",
       "      <td>5.660000</td>\n",
       "      <td>1248.656900</td>\n",
       "    </tr>\n",
       "    <tr>\n",
       "      <th>75%</th>\n",
       "      <td>8.516680e+05</td>\n",
       "      <td>0.000000e+00</td>\n",
       "      <td>4.024290e+02</td>\n",
       "      <td>1.257300e+04</td>\n",
       "      <td>0.000000</td>\n",
       "      <td>4.000000</td>\n",
       "      <td>155233.877000</td>\n",
       "      <td>0.000000</td>\n",
       "      <td>68.598000</td>\n",
       "      <td>1453.121000</td>\n",
       "      <td>...</td>\n",
       "      <td>41.300000</td>\n",
       "      <td>82.686750</td>\n",
       "      <td>4.200000</td>\n",
       "      <td>79.460000</td>\n",
       "      <td>0.829000</td>\n",
       "      <td>2.830170e+07</td>\n",
       "      <td>3.877775e+04</td>\n",
       "      <td>15.050000</td>\n",
       "      <td>15.690000</td>\n",
       "      <td>2878.521250</td>\n",
       "    </tr>\n",
       "    <tr>\n",
       "      <th>max</th>\n",
       "      <td>7.749544e+08</td>\n",
       "      <td>4.423623e+07</td>\n",
       "      <td>6.319461e+06</td>\n",
       "      <td>7.040264e+06</td>\n",
       "      <td>103719.000000</td>\n",
       "      <td>14817.000000</td>\n",
       "      <td>765370.756000</td>\n",
       "      <td>240325.866000</td>\n",
       "      <td>34332.267000</td>\n",
       "      <td>6485.570000</td>\n",
       "      <td>...</td>\n",
       "      <td>78.100000</td>\n",
       "      <td>100.000000</td>\n",
       "      <td>13.800000</td>\n",
       "      <td>86.750000</td>\n",
       "      <td>0.957000</td>\n",
       "      <td>7.975105e+09</td>\n",
       "      <td>1.345330e+06</td>\n",
       "      <td>78.080000</td>\n",
       "      <td>377.830000</td>\n",
       "      <td>10293.515000</td>\n",
       "    </tr>\n",
       "  </tbody>\n",
       "</table>\n",
       "<p>8 rows × 62 columns</p>\n",
       "</div>"
      ],
      "text/plain": [
       "        total_cases     new_cases  new_cases_smoothed  total_deaths  \\\n",
       "count  3.483330e+05  3.762800e+05        3.750500e+05  3.261090e+05   \n",
       "mean   7.386532e+06  8.728781e+03        8.756916e+03  8.996469e+04   \n",
       "std    4.398509e+07  2.397048e+05        9.038526e+04  4.566992e+05   \n",
       "min    1.000000e+00  0.000000e+00        0.000000e+00  1.000000e+00   \n",
       "25%    9.448000e+03  0.000000e+00        0.000000e+00  1.360000e+02   \n",
       "50%    7.971300e+04  0.000000e+00        1.700000e+01  1.393000e+03   \n",
       "75%    8.516680e+05  0.000000e+00        4.024290e+02  1.257300e+04   \n",
       "max    7.749544e+08  4.423623e+07        6.319461e+06  7.040264e+06   \n",
       "\n",
       "          new_deaths  new_deaths_smoothed  total_cases_per_million  \\\n",
       "count  376589.000000        375359.000000            348333.000000   \n",
       "mean       78.157939            78.405166            112347.967657   \n",
       "std      1424.517554           534.387547            160036.519608   \n",
       "min         0.000000             0.000000                 0.000000   \n",
       "25%         0.000000             0.000000              2954.509000   \n",
       "50%         0.000000             0.143000             32240.542000   \n",
       "75%         0.000000             4.000000            155233.877000   \n",
       "max    103719.000000         14817.000000            765370.756000   \n",
       "\n",
       "       new_cases_per_million  new_cases_smoothed_per_million  \\\n",
       "count          376280.000000                   375050.000000   \n",
       "mean              132.572340                      133.002194   \n",
       "std              1544.311765                      571.529927   \n",
       "min                 0.000000                        0.000000   \n",
       "25%                 0.000000                        0.000000   \n",
       "50%                 0.000000                        4.197000   \n",
       "75%                 0.000000                       68.598000   \n",
       "max            240325.866000                    34332.267000   \n",
       "\n",
       "       total_deaths_per_million  ...   male_smokers  handwashing_facilities  \\\n",
       "count             326109.000000  ...  222683.000000           147332.000000   \n",
       "mean                 918.307054  ...      32.910922               50.793168   \n",
       "std                 1131.569486  ...      13.572648               31.952844   \n",
       "min                    0.000000  ...       7.700000                1.188000   \n",
       "25%                   65.307000  ...      22.600000               20.859000   \n",
       "50%                  414.035000  ...      33.100000               49.839000   \n",
       "75%                 1453.121000  ...      41.300000               82.686750   \n",
       "max                 6485.570000  ...      78.100000              100.000000   \n",
       "\n",
       "       hospital_beds_per_thousand  life_expectancy  human_development_index  \\\n",
       "count               265635.000000    356730.000000            291692.000000   \n",
       "mean                     3.097544        73.712526                 0.722586   \n",
       "std                      2.548154         7.394828                 0.149001   \n",
       "min                      0.100000        53.280000                 0.394000   \n",
       "25%                      1.300000        69.590000                 0.602000   \n",
       "50%                      2.500000        75.050000                 0.740000   \n",
       "75%                      4.200000        79.460000                 0.829000   \n",
       "max                     13.800000        86.750000                 0.957000   \n",
       "\n",
       "         population  excess_mortality_cumulative_absolute  \\\n",
       "count  3.873300e+05                          1.318700e+04   \n",
       "mean   1.292804e+08                          5.579910e+04   \n",
       "std    6.634103e+08                          1.559496e+05   \n",
       "min    4.700000e+01                         -3.772610e+04   \n",
       "25%    4.490020e+05                          1.781000e+02   \n",
       "50%    5.882259e+06                          6.694300e+03   \n",
       "75%    2.830170e+07                          3.877775e+04   \n",
       "max    7.975105e+09                          1.345330e+06   \n",
       "\n",
       "       excess_mortality_cumulative  excess_mortality  \\\n",
       "count                 13187.000000      13187.000000   \n",
       "mean                      9.770265         10.979027   \n",
       "std                      12.022926         24.585788   \n",
       "min                     -44.230000        -95.920000   \n",
       "25%                       2.080000         -1.490000   \n",
       "50%                       8.150000          5.660000   \n",
       "75%                      15.050000         15.690000   \n",
       "max                      78.080000        377.830000   \n",
       "\n",
       "       excess_mortality_cumulative_per_million  \n",
       "count                             13187.000000  \n",
       "mean                               1777.206419  \n",
       "std                                1992.786873  \n",
       "min                               -2936.453100  \n",
       "25%                                 120.205410  \n",
       "50%                                1248.656900  \n",
       "75%                                2878.521250  \n",
       "max                               10293.515000  \n",
       "\n",
       "[8 rows x 62 columns]"
      ]
     },
     "execution_count": 297,
     "metadata": {},
     "output_type": "execute_result"
    }
   ],
   "source": [
    "df.describe()"
   ]
  },
  {
   "cell_type": "markdown",
   "id": "fc47d87a-7170-4adb-90a0-9ddda839c04e",
   "metadata": {},
   "source": [
    "Si chiede poi per ogni continente di trovare il numero di casi totali avvenuti in quello stesso continente; si chiede di non considerare eventuali locazioni che nel dataset non appartengono ad alcun continente. \n",
    "Riguardo i casi totali, si chiede di scrivere del codice che, date due variabili contenenti i nomi di continenti, ne confronti i seguenti relativi descrittori statistici rispetto al numero dei casi totali nel mondo (calcolati anche sulle locazioni senza indicazione di continente):  \n",
    "  - valore massimo\n",
    "  - media\n",
    "  - percentuale  \n"
   ]
  },
  {
   "cell_type": "code",
   "execution_count": 298,
   "id": "1974fc7e-624d-4232-b0f1-c912daedd7b8",
   "metadata": {},
   "outputs": [
    {
     "data": {
      "text/plain": [
       "continent\n",
       "Africa            13139991.0\n",
       "Asia             301414628.0\n",
       "Europe           252376812.0\n",
       "North America    124530611.0\n",
       "Oceania           14808141.0\n",
       "South America     68716854.0\n",
       "Name: total_cases, dtype: float64"
      ]
     },
     "execution_count": 298,
     "metadata": {},
     "output_type": "execute_result"
    }
   ],
   "source": [
    "\n",
    "clean_covid_df = df.dropna(subset=[\"continent\", \"location\", \"total_cases\"])\n",
    "max_cases_per_location = df_clean.groupby(['continent', 'location'])['total_cases'].max()\n",
    "max_cases_per_location.groupby(\"continent\").sum()\n"
   ]
  },
  {
   "cell_type": "code",
   "execution_count": 299,
   "id": "9e679ab6-0abd-467a-8ac4-4f3250c06643",
   "metadata": {},
   "outputs": [
    {
     "data": {
      "text/html": [
       "<div>\n",
       "<style scoped>\n",
       "    .dataframe tbody tr th:only-of-type {\n",
       "        vertical-align: middle;\n",
       "    }\n",
       "\n",
       "    .dataframe tbody tr th {\n",
       "        vertical-align: top;\n",
       "    }\n",
       "\n",
       "    .dataframe thead th {\n",
       "        text-align: right;\n",
       "    }\n",
       "</style>\n",
       "<table border=\"1\" class=\"dataframe\">\n",
       "  <thead>\n",
       "    <tr style=\"text-align: right;\">\n",
       "      <th></th>\n",
       "      <th>Max_cases</th>\n",
       "    </tr>\n",
       "    <tr>\n",
       "      <th>Continent</th>\n",
       "      <th></th>\n",
       "    </tr>\n",
       "  </thead>\n",
       "  <tbody>\n",
       "    <tr>\n",
       "      <th>Europe</th>\n",
       "      <td>252376812.0</td>\n",
       "    </tr>\n",
       "    <tr>\n",
       "      <th>North America</th>\n",
       "      <td>124530611.0</td>\n",
       "    </tr>\n",
       "  </tbody>\n",
       "</table>\n",
       "</div>"
      ],
      "text/plain": [
       "                 Max_cases\n",
       "Continent                 \n",
       "Europe         252376812.0\n",
       "North America  124530611.0"
      ]
     },
     "execution_count": 299,
     "metadata": {},
     "output_type": "execute_result"
    },
    {
     "data": {
      "image/png": "[encoded data removed]",
      "text/plain": [
       "<Figure size 640x480 with 1 Axes>"
      ]
     },
     "metadata": {},
     "output_type": "display_data"
    }
   ],
   "source": [
    "import matplotlib.pyplot as plt\n",
    "\n",
    "usa_europe_stats = pd.DataFrame()\n",
    "\n",
    "europe, n_america = \"Europe\", \"North America\"\n",
    "total_cases = clean_covid_df.groupby(\"location\")[\"total_cases\"].max().sum()\n",
    "\n",
    "for continent in (europe, n_america):\n",
    "\n",
    "    max_cases = [clean_covid_df[clean_covid_df['continent'] == continent].groupby(\"location\")[\"total_cases\"].max().sum()]\n",
    "    mean = [clean_covid_df[clean_covid_df['continent'] == continent].groupby(\"location\")[\"total_cases\"].max().mean()]\n",
    "    temp = pd.DataFrame({\n",
    "                            \"Continent\" : continent,\n",
    "                            \"Max_cases\" : max_cases,\n",
    "                            \"Mean\": mean,\n",
    "                            \"Perc_on_total_cases\" : (max_cases / total_cases) * 100\n",
    "                        }).round(2).set_index(\"Continent\")\n",
    "    usa_europe_stats = pd.concat([usa_europe_stats, temp])\n",
    "\n",
    "usa_europe_stats.Max_cases.plot(kind =\"bar\", color = [\"Blue\", \"Orange\"])\n",
    "usa_europe_stats[\"Max_cases\"].to_frame()\n"
   ]
  },
  {
   "cell_type": "code",
   "execution_count": 300,
   "id": "621e3a68-d76f-48fe-ab67-ded7d3c6631f",
   "metadata": {},
   "outputs": [
    {
     "data": {
      "text/html": [
       "<div>\n",
       "<style scoped>\n",
       "    .dataframe tbody tr th:only-of-type {\n",
       "        vertical-align: middle;\n",
       "    }\n",
       "\n",
       "    .dataframe tbody tr th {\n",
       "        vertical-align: top;\n",
       "    }\n",
       "\n",
       "    .dataframe thead th {\n",
       "        text-align: right;\n",
       "    }\n",
       "</style>\n",
       "<table border=\"1\" class=\"dataframe\">\n",
       "  <thead>\n",
       "    <tr style=\"text-align: right;\">\n",
       "      <th></th>\n",
       "      <th>Mean</th>\n",
       "    </tr>\n",
       "    <tr>\n",
       "      <th>Continent</th>\n",
       "      <th></th>\n",
       "    </tr>\n",
       "  </thead>\n",
       "  <tbody>\n",
       "    <tr>\n",
       "      <th>Europe</th>\n",
       "      <td>4948564.94</td>\n",
       "    </tr>\n",
       "    <tr>\n",
       "      <th>North America</th>\n",
       "      <td>3037331.98</td>\n",
       "    </tr>\n",
       "  </tbody>\n",
       "</table>\n",
       "</div>"
      ],
      "text/plain": [
       "                     Mean\n",
       "Continent                \n",
       "Europe         4948564.94\n",
       "North America  3037331.98"
      ]
     },
     "execution_count": 300,
     "metadata": {},
     "output_type": "execute_result"
    },
    {
     "data": {
      "image/png": "[encoded data removed]",
      "text/plain": [
       "<Figure size 640x480 with 1 Axes>"
      ]
     },
     "metadata": {},
     "output_type": "display_data"
    }
   ],
   "source": [
    "usa_europe_stats.Mean.plot(kind =\"bar\", color = [\"Blue\", \"Orange\"])\n",
    "usa_europe_stats[\"Mean\"].to_frame()"
   ]
  },
  {
   "cell_type": "code",
   "execution_count": 301,
   "id": "5d781c1e-4c52-4d8c-9fa1-81d5741ad28a",
   "metadata": {},
   "outputs": [
    {
     "data": {
      "text/html": [
       "<div>\n",
       "<style scoped>\n",
       "    .dataframe tbody tr th:only-of-type {\n",
       "        vertical-align: middle;\n",
       "    }\n",
       "\n",
       "    .dataframe tbody tr th {\n",
       "        vertical-align: top;\n",
       "    }\n",
       "\n",
       "    .dataframe thead th {\n",
       "        text-align: right;\n",
       "    }\n",
       "</style>\n",
       "<table border=\"1\" class=\"dataframe\">\n",
       "  <thead>\n",
       "    <tr style=\"text-align: right;\">\n",
       "      <th></th>\n",
       "      <th>Perc_on_total_cases</th>\n",
       "    </tr>\n",
       "    <tr>\n",
       "      <th>Continent</th>\n",
       "      <th></th>\n",
       "    </tr>\n",
       "  </thead>\n",
       "  <tbody>\n",
       "    <tr>\n",
       "      <th>Europe</th>\n",
       "      <td>32.57</td>\n",
       "    </tr>\n",
       "    <tr>\n",
       "      <th>North America</th>\n",
       "      <td>16.07</td>\n",
       "    </tr>\n",
       "  </tbody>\n",
       "</table>\n",
       "</div>"
      ],
      "text/plain": [
       "               Perc_on_total_cases\n",
       "Continent                         \n",
       "Europe                       32.57\n",
       "North America                16.07"
      ]
     },
     "execution_count": 301,
     "metadata": {},
     "output_type": "execute_result"
    },
    {
     "data": {
      "image/png": "[encoded data removed]",
      "text/plain": [
       "<Figure size 640x480 with 1 Axes>"
      ]
     },
     "metadata": {},
     "output_type": "display_data"
    }
   ],
   "source": [
    "usa_europe_stats.Perc_on_total_cases.plot(kind =\"bar\", color = [\"Blue\", \"Orange\"])\n",
    "usa_europe_stats[\"Perc_on_total_cases\"].to_frame()"
   ]
  },
  {
   "cell_type": "markdown",
   "id": "f328dbc1-3661-4b4e-a249-a7eed593ec05",
   "metadata": {},
   "source": [
    "Selezionare i dati relativi all'Italia nel 2022 e:\n",
    "- Mostrare con un grafico adeguato l'evoluzione del casi totali rispetto alla data.   \n",
    "- Mostrare poi con un grafico adeguato il numero di nuovi casi rispetto alla data (filtrare i dati se necessario).\n",
    "- Mostrare infine un grafico che mostra l'andamento della somma cumulativa nuovi casi del 2022, e commentare se ci sono similarità con l'andamento del numero dei casi totali"
   ]
  },
  {
   "cell_type": "code",
   "execution_count": 302,
   "id": "80c017d0-18b0-4735-b164-0d3c63d7d856",
   "metadata": {},
   "outputs": [
    {
     "name": "stderr",
     "output_type": "stream",
     "text": [
      "/tmp/ipykernel_25436/1944358915.py:2: SettingWithCopyWarning: \n",
      "A value is trying to be set on a copy of a slice from a DataFrame.\n",
      "Try using .loc[row_indexer,col_indexer] = value instead\n",
      "\n",
      "See the caveats in the documentation: https://pandas.pydata.org/pandas-docs/stable/user_guide/indexing.html#returning-a-view-versus-a-copy\n",
      "  italy_df[\"date\"] = pd.to_datetime(italy_df[\"date\"])\n",
      "/tmp/ipykernel_25436/1944358915.py:4: SettingWithCopyWarning: \n",
      "A value is trying to be set on a copy of a slice from a DataFrame.\n",
      "Try using .loc[row_indexer,col_indexer] = value instead\n",
      "\n",
      "See the caveats in the documentation: https://pandas.pydata.org/pandas-docs/stable/user_guide/indexing.html#returning-a-view-versus-a-copy\n",
      "  italy_22[\"month\"] = italy_22[\"date\"].dt.month\n"
     ]
    }
   ],
   "source": [
    "italy_df = clean_covid_df[clean_covid_df[\"location\"]== \"Italy\"]\n",
    "italy_df[\"date\"] = pd.to_datetime(italy_df[\"date\"])\n",
    "italy_22 = italy_df[italy_df[\"date\"].dt.year == 2022]\n",
    "italy_22[\"month\"] = italy_22[\"date\"].dt.month"
   ]
  },
  {
   "cell_type": "code",
   "execution_count": 303,
   "id": "d12d7a75-4638-4ee6-84e1-f08e53aaf842",
   "metadata": {},
   "outputs": [
    {
     "data": {
      "text/plain": [
       "<AxesSubplot:xlabel='month'>"
      ]
     },
     "execution_count": 303,
     "metadata": {},
     "output_type": "execute_result"
    },
    {
     "data": {
      "image/png": "[encoded data removed]",
      "text/plain": [
       "<Figure size 640x480 with 1 Axes>"
      ]
     },
     "metadata": {},
     "output_type": "display_data"
    }
   ],
   "source": [
    "italy_22.groupby(\"month\")[\"total_cases\"].max().plot(kind=\"bar\")"
   ]
  },
  {
   "cell_type": "code",
   "execution_count": 304,
   "id": "17c59e87-812f-4590-b193-ff2c635a9e99",
   "metadata": {},
   "outputs": [
    {
     "data": {
      "text/plain": [
       "<AxesSubplot:xlabel='month'>"
      ]
     },
     "execution_count": 304,
     "metadata": {},
     "output_type": "execute_result"
    },
    {
     "data": {
      "image/png": "[encoded data removed]",
      "text/plain": [
       "<Figure size 640x480 with 1 Axes>"
      ]
     },
     "metadata": {},
     "output_type": "display_data"
    }
   ],
   "source": [
    "italy_22.groupby(\"month\")[\"new_cases\"].max().plot(kind=\"bar\")"
   ]
  },
  {
   "cell_type": "code",
   "execution_count": 305,
   "id": "9ce11900-2858-45a9-b28a-9c4d6041f991",
   "metadata": {},
   "outputs": [
    {
     "data": {
      "text/plain": [
       "<AxesSubplot:xlabel='month'>"
      ]
     },
     "execution_count": 305,
     "metadata": {},
     "output_type": "execute_result"
    },
    {
     "data": {
      "image/png": "[encoded data removed]",
      "text/plain": [
       "<Figure size 640x480 with 1 Axes>"
      ]
     },
     "metadata": {},
     "output_type": "display_data"
    }
   ],
   "source": [
    "italy_22.groupby(\"month\")[[\"total_cases\", \"new_cases\"]].max().plot(kind=\"bar\")"
   ]
  },
  {
   "cell_type": "code",
   "execution_count": 306,
   "id": "683a3211-57c9-4a61-804a-9df204c7de52",
   "metadata": {},
   "outputs": [],
   "source": [
    "# Il grafico rappresenta la tendenza della pandemia a ragiungere i livelli di contagio massimi nei periodi di Gennaio e Luglio. \n",
    "# Allo stesso tempo, mostra una non elevata incidenza dei casi italiani nel 2022 sui contagi mondiali."
   ]
  },
  {
   "cell_type": "markdown",
   "id": "e41a760f-861f-4134-ad36-7d1bbc285dc0",
   "metadata": {},
   "source": [
    "Riguardo le nazioni di Italia, Germania e Francia, mostrare in un boxplot la differenza tra queste nazioni riguardo il numero di pazienti in terapia intensiva \n",
    "(Intensive Care Unit, ICU) da maggio 2022 (incluso) ad aprile 2023 (incluso), e scrivere un breve commento a riguardo;"
   ]
  },
  {
   "cell_type": "code",
   "execution_count": 307,
   "id": "b3cee035-d373-4318-8dac-84486ba18d98",
   "metadata": {},
   "outputs": [
    {
     "name": "stderr",
     "output_type": "stream",
     "text": [
      "/tmp/ipykernel_25436/3114629771.py:6: SettingWithCopyWarning: \n",
      "A value is trying to be set on a copy of a slice from a DataFrame.\n",
      "Try using .loc[row_indexer,col_indexer] = value instead\n",
      "\n",
      "See the caveats in the documentation: https://pandas.pydata.org/pandas-docs/stable/user_guide/indexing.html#returning-a-view-versus-a-copy\n",
      "  fr_ger_it_df[\"date\"] = pd.to_datetime(fr_ger_it_df[\"date\"])\n"
     ]
    },
    {
     "data": {
      "image/png": "[encoded data removed]",
      "text/plain": [
       "<Figure size 1000x600 with 1 Axes>"
      ]
     },
     "metadata": {},
     "output_type": "display_data"
    }
   ],
   "source": [
    "import seaborn as sns\n",
    "import matplotlib.pyplot as plt\n",
    "\n",
    "\n",
    "fr_ger_it_df = clean_covid_df[clean_covid_df['location'].isin(['Italy', 'Germany', 'France'])]\n",
    "fr_ger_it_df[\"date\"] = pd.to_datetime(fr_ger_it_df[\"date\"])\n",
    "time_range_df= fr_ger_it_df[(fr_ger_it_df['date'] >= '2022-05-01') & (fr_ger_it_df['date'] <= '2023-04-30')]\n",
    "\n",
    "plt.figure(figsize=(10, 6))\n",
    "sns.boxplot(x='location', y='icu_patients', data= time_range_df)\n",
    "plt.title('ICU Patients (May 2022 - April 2023)')\n",
    "plt.xlabel('Countries')\n",
    "plt.ylabel('ICU Patients Count')\n",
    "plt.show()"
   ]
  },
  {
   "cell_type": "markdown",
   "id": "96ec246c-93f8-4598-a863-a0bf56c59196",
   "metadata": {},
   "source": [
    "Riguardo le nazioni di Italia, Germania, Francia e Spagna nel 2023, mostrare la somma dei pazienti ospitalizzati per ognuna, se ci sono dati nulli, suggerire se può essere possibile gestirli tramite sostituzione o meno."
   ]
  },
  {
   "cell_type": "code",
   "execution_count": 308,
   "id": "3e054cfc-fad6-477d-b1d8-1ac40536a958",
   "metadata": {},
   "outputs": [
    {
     "name": "stderr",
     "output_type": "stream",
     "text": [
      "/tmp/ipykernel_25436/268510911.py:2: SettingWithCopyWarning: \n",
      "A value is trying to be set on a copy of a slice from a DataFrame.\n",
      "Try using .loc[row_indexer,col_indexer] = value instead\n",
      "\n",
      "See the caveats in the documentation: https://pandas.pydata.org/pandas-docs/stable/user_guide/indexing.html#returning-a-view-versus-a-copy\n",
      "  spain_df[\"date\"] = pd.to_datetime(spain_df[\"date\"])\n"
     ]
    },
    {
     "data": {
      "text/plain": [
       "location\n",
       "France     19367212.0\n",
       "Germany           0.0\n",
       "Italy      13356874.0\n",
       "Spain       6472838.0\n",
       "Name: hosp_patients, dtype: float64"
      ]
     },
     "execution_count": 308,
     "metadata": {},
     "output_type": "execute_result"
    }
   ],
   "source": [
    "spain_df = clean_covid_df[clean_covid_df['location'] == \"Spain\"]\n",
    "spain_df[\"date\"] = pd.to_datetime(spain_df[\"date\"])\n",
    "last_comparison_df = pd.concat([fr_ger_it_df, spain_df])\n",
    "last_comparison_df.groupby(\"location\")[\"hosp_patients\"].sum()\n"
   ]
  },
  {
   "cell_type": "code",
   "execution_count": 309,
   "id": "6f0bf397-8825-4e20-a977-b3de2c14b370",
   "metadata": {},
   "outputs": [
    {
     "data": {
      "text/plain": [
       "location\n",
       "France      404\n",
       "Germany    1534\n",
       "Italy        22\n",
       "Spain       475\n",
       "Name: hosp_patients, dtype: int64"
      ]
     },
     "execution_count": 309,
     "metadata": {},
     "output_type": "execute_result"
    }
   ],
   "source": [
    "null = last_comparison_df[\"hosp_patients\"].isnull().groupby(last_comparison_df[\"location\"]).sum()\n",
    "null"
   ]
  }
 ],
 "metadata": {
  "kernelspec": {
   "display_name": "Python 3 (ipykernel)",
   "language": "python",
   "name": "python3"
  },
  "language_info": {
   "codemirror_mode": {
    "name": "ipython",
    "version": 3
   },
   "file_extension": ".py",
   "mimetype": "text/x-python",
   "name": "python",
   "nbconvert_exporter": "python",
   "pygments_lexer": "ipython3",
   "version": "3.10.12"
  }
 },
 "nbformat": 4,
 "nbformat_minor": 5
}
