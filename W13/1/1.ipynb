{
 "cells": [
  {
   "cell_type": "code",
   "execution_count": 1,
   "id": "0d983426-a1df-405f-9423-021d184274ef",
   "metadata": {},
   "outputs": [],
   "source": [
    "numero_totale_studenti = 25\n"
   ]
  },
  {
   "cell_type": "code",
   "execution_count": null,
   "id": "0b21517a-c637-4dd2-bc9f-8fb90f99e82b",
   "metadata": {},
   "outputs": [],
   "source": [
    "print(numero_totale_studenti)"
   ]
  },
  {
   "cell_type": "code",
   "execution_count": 5,
   "id": "aedecba5-1601-451b-b943-1ea91619ed01",
   "metadata": {},
   "outputs": [
    {
     "data": {
      "text/plain": [
       "\"Abbiamo 25 studenti; memorizzare questo dato in una variabile. Arrivano altri 3 studenti; memorizzare questo dato in un'altra variabile. Creare un'altra variabile ancora che conterrà la somma delle prime due, poi stamparla a video.\""
      ]
     },
     "execution_count": 5,
     "metadata": {},
     "output_type": "execute_result"
    }
   ],
   "source": [
    "\"\"\"Abbiamo 25 studenti; memorizzare questo dato in una variabile. Arrivano altri 3 studenti; memorizzare questo dato in un'altra variabile. \\n \n",
    "Creare un'altra variabile ancora che conterrà la somma delle prime due, poi stamparla a video.\"\"\""
   ]
  },
  {
   "cell_type": "code",
   "execution_count": null,
   "id": "40ba7dbf-2cf0-48e1-bdfd-3bba264acb66",
   "metadata": {},
   "outputs": [],
   "source": [
    "nuovi_studenti = 3\n",
    "somma_studenti= numero_totale_studenti + nuovi_studenti\n",
    "print(somma_studenti)"
   ]
  },
  {
   "cell_type": "code",
   "execution_count": 7,
   "id": "1e1082f1-96a6-4637-97c9-f7ddacd85ca5",
   "metadata": {},
   "outputs": [
    {
     "name": "stdout",
     "output_type": "stream",
     "text": [
      "Epicode\n"
     ]
    }
   ],
   "source": [
    "\"\"\"Creare una variabile che contiene la stringa \"Epicode\", quindi stamparla a video.\"\"\"\n",
    "\n",
    "variabile_ep = \"Epicode\"\n",
    "print(variabile_ep)"
   ]
  },
  {
   "cell_type": "code",
   "execution_count": 8,
   "id": "31692d66-a4f3-4cdf-9a25-ca29fd9a8c74",
   "metadata": {},
   "outputs": [
    {
     "data": {
      "text/plain": [
       "'Abbiamo la variabile: x = 10 Incrementarla di 2 e poi moltiplicarla per 3 Usare due metodi diversi (ad esempio, uno utilizzando gli operatori di assegnazione, e uno senza)'"
      ]
     },
     "execution_count": 8,
     "metadata": {},
     "output_type": "execute_result"
    }
   ],
   "source": [
    "\"\"\"Abbiamo la variabile: x = 10 Incrementarla di 2 e poi moltiplicarla per 3 Usare due metodi diversi (ad esempio, uno utilizzando gli operatori di assegnazione, e uno senza)\"\"\""
   ]
  },
  {
   "cell_type": "code",
   "execution_count": 12,
   "id": "63e1effb-92d3-4bb4-953b-8f2817ab9140",
   "metadata": {},
   "outputs": [
    {
     "name": "stdout",
     "output_type": "stream",
     "text": [
      "36\n",
      "36\n"
     ]
    }
   ],
   "source": [
    "x = 10\n",
    "x = (x + 2) * 3\n",
    "print(x)\n",
    "x= 10\n",
    "x += 2\n",
    "x *= 3\n",
    "print(x)"
   ]
  },
  {
   "cell_type": "code",
   "execution_count": null,
   "id": "2913a079-bb77-4005-ba95-40e1386cfa37",
   "metadata": {},
   "outputs": [],
   "source": [
    "\"\"\"Verificare, per ognuna delle seguenti stringhe, se il numero di caratteri è compreso tra 5 e 8:\"\"\""
   ]
  },
  {
   "cell_type": "code",
   "execution_count": null,
   "id": "01554220-5bfd-4a90-9a65-eabd83d15075",
   "metadata": {},
   "outputs": [],
   "source": [
    "for string in (\"Windows\", \"Excel\", \"Power Point\", \"Word\"):\n",
    "    if 5<=len(string)<=8:\n",
    "        print(f\"La len di {string} è compresa tra 5 e 8\")\n",
    "    else:\n",
    "        print(f\"{string} non è compresa\")\n",
    "        "
   ]
  },
  {
   "cell_type": "code",
   "execution_count": null,
   "id": "a9ec601a-60df-44c1-a890-52cca5cabf73",
   "metadata": {},
   "outputs": [],
   "source": [
    "\"\"\"Calcolare e stampare a video quanti secondi ci sono in un anno non bisestile.\"\"\""
   ]
  },
  {
   "cell_type": "code",
   "execution_count": 18,
   "id": "daf729c9-cbe0-4c15-b4ea-d578fae67e5b",
   "metadata": {},
   "outputs": [
    {
     "name": "stdout",
     "output_type": "stream",
     "text": [
      "31536000\n"
     ]
    }
   ],
   "source": [
    "print(365 * 24 * 60 * 60)\n"
   ]
  },
  {
   "cell_type": "code",
   "execution_count": 19,
   "id": "fe2c2dc3-8e49-4d0e-842e-8544d0c4e162",
   "metadata": {},
   "outputs": [
    {
     "data": {
      "text/plain": [
       "'Abbiamo la seguente stringa: my_string = \"I am studying Python\" \\n Trasformarla in modo che tutti i caratteri siano maiuscoli (uppercase) \\n Trasformarla in modo che tutti i caratteri siano minuscoli (lowercase) • Sostituire la sottostringa \"Python\" con la stringa \"a lot\" \\n Usare il metodo .strip(); cambia qualcosa? Perché?'"
      ]
     },
     "execution_count": 19,
     "metadata": {},
     "output_type": "execute_result"
    }
   ],
   "source": [
    "\"\"\"Abbiamo la seguente stringa: my_string = \"I am studying Python\" \n",
    "Trasformarla in modo che tutti i caratteri siano maiuscoli (uppercase)\n",
    "Trasformarla in modo che tutti i caratteri siano minuscoli (lowercase) \n",
    "Sostituire la sottostringa \"Python\" con la stringa \"a lot\"\n",
    "Usare il metodo .strip(); cambia qualcosa? Perché?\"\"\"\n",
    "\n",
    "\n"
   ]
  },
  {
   "cell_type": "code",
   "execution_count": 26,
   "id": "cf2fc141-6310-45dc-b4d5-b5f00e25b21f",
   "metadata": {},
   "outputs": [
    {
     "name": "stdout",
     "output_type": "stream",
     "text": [
      "I AM STUDYING PYTHON\n",
      "i am studying python\n",
      "i am studying a lot\n"
     ]
    }
   ],
   "source": [
    "my_string = \"I am studying Python\"\n",
    "my_string = my_string.upper()\n",
    "print(my_string)\n",
    "my_string = my_string.lower()\n",
    "print(my_string)\n",
    "my_string = my_string.replace(\"python\", \"a lot\")\n",
    "print(my_string)\n"
   ]
  },
  {
   "cell_type": "code",
   "execution_count": null,
   "id": "dba00b26-a76c-4d3f-9f91-3f8c1309b807",
   "metadata": {},
   "outputs": [],
   "source": [
    "#considerato che la stringa non ha spazi laterali, il metodo strip() non apporterà nessuna modifica\n"
   ]
  }
 ],
 "metadata": {
  "kernelspec": {
   "display_name": "Python 3 (ipykernel)",
   "language": "python",
   "name": "python3"
  },
  "language_info": {
   "codemirror_mode": {
    "name": "ipython",
    "version": 3
   },
   "file_extension": ".py",
   "mimetype": "text/x-python",
   "name": "python",
   "nbconvert_exporter": "python",
   "pygments_lexer": "ipython3",
   "version": "3.10.12"
  }
 },
 "nbformat": 4,
 "nbformat_minor": 5
}
