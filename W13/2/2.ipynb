{
 "cells": [
  {
   "cell_type": "code",
   "execution_count": 2,
   "id": "889d9c38-b767-41d6-b180-3fe3822f46c5",
   "metadata": {},
   "outputs": [
    {
     "name": "stdout",
     "output_type": "stream",
     "text": [
      "E\n",
      "p\n",
      "i\n",
      "c\n",
      "o\n",
      "d\n",
      "e\n"
     ]
    }
   ],
   "source": [
    "\"\"\" \n",
    "    Esercizio \n",
    "    Abbiamo la stringa: nome_scuola = \"Epicode\" \n",
    "    Stampare ogni carattere della stringa, uno su ogni riga, utilizzando un costrutto while.\n",
    "\"\"\"\n",
    "nome_scuola = \"Epicode\"\n",
    "index = 0\n",
    "\n",
    "while index < len(nome_scuola):\n",
    "\n",
    "    print(nome_scuola[index])\n",
    "    index += 1"
   ]
  },
  {
   "cell_type": "code",
   "execution_count": 3,
   "id": "760c6c0f-2990-44b8-8615-c25abb486f91",
   "metadata": {},
   "outputs": [
    {
     "name": "stdout",
     "output_type": "stream",
     "text": [
      "0\n",
      "1\n",
      "2\n",
      "3\n",
      "4\n",
      "5\n",
      "6\n",
      "7\n",
      "8\n",
      "9\n",
      "10\n",
      "11\n",
      "12\n",
      "13\n",
      "14\n",
      "15\n",
      "16\n",
      "17\n",
      "18\n",
      "19\n",
      "20\n"
     ]
    }
   ],
   "source": [
    "\"\"\" \n",
    "    Esercizio \n",
    "    Stampare a video tutti i numeri da 0 a 20 utilizzando il costrutto while. Utilizzeremo:     \n",
    "    • un ciclo while \n",
    "    • la funzione print() \n",
    "    • una variabile, che dovrà essere inizializzata \n",
    "    • una procedura di incremento\n",
    "\"\"\" \n",
    "\n",
    "num = 0\n",
    "\n",
    "while num < 21:\n",
    "\n",
    "    print(num)\n",
    "\n",
    "    num += 1"
   ]
  },
  {
   "cell_type": "code",
   "execution_count": 4,
   "id": "cf6c38a9-c4bc-41e7-9374-c44894ab5306",
   "metadata": {},
   "outputs": [
    {
     "name": "stdout",
     "output_type": "stream",
     "text": [
      "1\n",
      "2\n",
      "4\n",
      "8\n",
      "16\n",
      "32\n",
      "64\n",
      "128\n",
      "256\n",
      "512\n",
      "1024\n"
     ]
    }
   ],
   "source": [
    "\"\"\"\n",
    "    Esercizio \n",
    "    Calcolare e stampare tutte le prime 10 potenze di 2 (e.g., 2⁰, 2¹, 2², …) utilizzando un ciclo while.\n",
    "\"\"\" \n",
    "\n",
    "power = 0\n",
    "while power <= 10:\n",
    "\n",
    "    print(2 ** power)\n",
    "    power += 1\n"
   ]
  },
  {
   "cell_type": "code",
   "execution_count": 5,
   "id": "975d438b-cd0d-4ed6-9b71-ed34f674b298",
   "metadata": {},
   "outputs": [
    {
     "name": "stdin",
     "output_type": "stream",
     "text": [
      "insert power: 56\n"
     ]
    },
    {
     "name": "stdout",
     "output_type": "stream",
     "text": [
      "1\n",
      "2\n",
      "4\n",
      "8\n",
      "16\n",
      "32\n",
      "64\n",
      "128\n",
      "256\n",
      "512\n",
      "1024\n",
      "2048\n",
      "4096\n",
      "8192\n",
      "16384\n",
      "32768\n",
      "65536\n",
      "131072\n",
      "262144\n",
      "524288\n",
      "1048576\n",
      "2097152\n",
      "4194304\n",
      "8388608\n",
      "16777216\n",
      "33554432\n",
      "67108864\n",
      "134217728\n",
      "268435456\n",
      "536870912\n",
      "1073741824\n",
      "2147483648\n",
      "4294967296\n",
      "8589934592\n",
      "17179869184\n",
      "34359738368\n",
      "68719476736\n",
      "137438953472\n",
      "274877906944\n",
      "549755813888\n",
      "1099511627776\n",
      "2199023255552\n",
      "4398046511104\n",
      "8796093022208\n",
      "17592186044416\n",
      "35184372088832\n",
      "70368744177664\n",
      "140737488355328\n",
      "281474976710656\n",
      "562949953421312\n",
      "1125899906842624\n",
      "2251799813685248\n",
      "4503599627370496\n",
      "9007199254740992\n",
      "18014398509481984\n",
      "36028797018963968\n",
      "72057594037927936\n"
     ]
    }
   ],
   "source": [
    "\"\"\"\n",
    "    Esercizio \n",
    "    Calcolare e stampare tutte le prime N potenze di 2 utilizzando un ciclo while, domandando all'utente \n",
    "    di inserire N\n",
    "\"\"\"    \n",
    "power_inp = int(input(\"insert power:\"))\n",
    "temp = 0\n",
    "while temp <= power_inp:\n",
    "    print(2 ** temp)\n",
    "    temp += 1"
   ]
  },
  {
   "cell_type": "code",
   "execution_count": 6,
   "id": "f052b239-9e87-4058-8a12-6694fe98e81c",
   "metadata": {},
   "outputs": [
    {
     "name": "stdout",
     "output_type": "stream",
     "text": [
      "1\n",
      "2\n",
      "4\n",
      "8\n",
      "16\n",
      "32\n",
      "64\n",
      "128\n",
      "256\n",
      "512\n",
      "1024\n",
      "2048\n",
      "4096\n",
      "8192\n",
      "16384\n",
      "32768\n"
     ]
    }
   ],
   "source": [
    "\"\"\"\"Esercizio Calcolare e stampare tutte le potenze di 2 minori di 25000.\"\"\"\n",
    "\n",
    "powers = 0\n",
    "pw = 0\n",
    "while powers < 25000:\n",
    "  \n",
    "   powers= 2 ** pw\n",
    "   print(powers)\n",
    "   pw += 1\n"
   ]
  },
  {
   "cell_type": "code",
   "execution_count": 10,
   "id": "2406db0f-1ef2-4975-b4a8-db6298516d47",
   "metadata": {},
   "outputs": [],
   "source": [
    "\"\"\"Esercizio (1/2) Abbiamo due liste, una di studenti e una di corsi:\"\"\"\n",
    "\n",
    "studenti = [\"Alex\", \"Bob\", \"Cindy\", \"Dan\", \"Emma\", \"Faith\", \"Grace\", \"Henry\"] \n",
    "corsi = [\"Cybersecurity\", \"Data Analyst\", \"Backend\", \"Frontend\", \"Data Analyst\", \"Backend\"]\n",
    "\n",
    "\"\"\" Esercizio (2/2) Aggiungere i dati mancanti alla lista corsi, sapendo che Emma segue Data Analyst \n",
    "    Faith segue Backend Grace segue Frontend Henry segue Cybersecurity Aggiungeremo i dati mancanti uno \n",
    "    alla volta con il metodo per appendere in coda alle liste, poi verificheremo che sono della stessa \n",
    "    lunghezza e se lo sono stamperemo la lista corsi. Se alcuni dati sono già presenti non vanno aggiunti \n",
    "    di nuovo.\n",
    "\"\"\"\n",
    "\n",
    "for spec in [\"Data Analyst\", \"Backend\", \"Frontend\", \"Cybersecurity\"]:\n",
    "    corsi.append(spec)\n",
    "if len(studenti) == len(corsi):\n",
    "    print(corsi) \n"
   ]
  },
  {
   "cell_type": "code",
   "execution_count": 11,
   "id": "3d2d9b51-9f37-4fe9-9e4f-961b5643b9b2",
   "metadata": {},
   "outputs": [
    {
     "name": "stdin",
     "output_type": "stream",
     "text": [
      "insert a word:  ciao\n"
     ]
    },
    {
     "name": "stdout",
     "output_type": "stream",
     "text": [
      "ci:ao\n"
     ]
    }
   ],
   "source": [
    "\"\"\"\"\n",
    "    Esercizio \n",
    "    Scriviamo un programma che chiede in input all'utente una stringa e visualizza i primi 3 caratteri, \n",
    "    seguiti da 3 punti di sospensione e quindi gli ultimi 3 caratteri, similmente all'esercizio della \n",
    "    lezione scorsa. Stavolta facciamo attenzione a tutti i casi particolari, ovvero implementare \n",
    "    soluzioni ad hoc per stringhe di lunghezza inferiore a 6 caratteri.\n",
    "\"\"\"\n",
    "\n",
    "string = input(\"insert a word: \")\n",
    "half = len(string)//2\n",
    "print(f\"{string[:half]}:{string[half:]}\")\n"
   ]
  },
  {
   "cell_type": "code",
   "execution_count": 13,
   "id": "1e06a58a-f681-41f9-b4c0-60c51e8082b3",
   "metadata": {},
   "outputs": [
    {
     "name": "stdin",
     "output_type": "stream",
     "text": [
      "insert a number:  560\n"
     ]
    },
    {
     "name": "stdout",
     "output_type": "stream",
     "text": [
      "[2, 2, 2, 2, 5, 7]\n"
     ]
    }
   ],
   "source": [
    "\"\"\"\n",
    "    Esercizio \n",
    "    Memorizza e stampa tutti i fattori di un numero dato in input. \n",
    "    Esempio: • input: 150 • output: [2, 3, 5, 5]\n",
    "\"\"\"\n",
    "num = int(input(\"insert a number: \"))\n",
    "divisor = 2\n",
    "factors = []\n",
    "while num > 1:\n",
    "    if num % divisor == 0:\n",
    "        factors.append(divisor)\n",
    "        num //= divisor\n",
    " \n",
    "    else:\n",
    "        divisor += 1\n",
    "\n",
    "print(factors)"
   ]
  },
  {
   "cell_type": "code",
   "execution_count": 14,
   "id": "58a51dc6-7945-41cc-b02f-4957b938a3fd",
   "metadata": {},
   "outputs": [
    {
     "name": "stdout",
     "output_type": "stream",
     "text": [
      "E\n",
      "p\n",
      "i\n",
      "c\n",
      "o\n",
      "d\n",
      "e\n"
     ]
    }
   ],
   "source": [
    "\"\"\"\n",
    "    Esercizio \n",
    "    Abbiamo la stringa: nome_scuola = \"Epicode\" Stampare ogni carattere della stringa, uno su ogni riga, \n",
    "    utilizzando un costrutto for.\n",
    "\"\"\"\n",
    "\n",
    "nome_scuola = \"Epicode\"\n",
    "for lettera in nome_scuola:\n",
    "     print(lettera)"
   ]
  },
  {
   "cell_type": "code",
   "execution_count": 15,
   "id": "a9bf95fe-e3be-4bbe-aaa7-61c39ccdcba3",
   "metadata": {},
   "outputs": [
    {
     "name": "stdout",
     "output_type": "stream",
     "text": [
      "2\n",
      "4\n",
      "8\n",
      "16\n",
      "32\n",
      "64\n",
      "128\n",
      "256\n",
      "512\n",
      "1024\n"
     ]
    }
   ],
   "source": [
    "\"\"\"\n",
    "    Esercizio \n",
    "    Calcolare e stampare tutte le prime 10 potenze di 2 utilizzando un ciclo.\n",
    "\"\"\"\n",
    "\n",
    "for x in range(1, 11):\n",
    "    print(2 ** x)\n"
   ]
  },
  {
   "cell_type": "code",
   "execution_count": 17,
   "id": "4cda8346-4505-4d89-8d4c-33635e8245f8",
   "metadata": {},
   "outputs": [
    {
     "name": "stdin",
     "output_type": "stream",
     "text": [
      "insert a number:  20\n",
      "insert its power:  4\n"
     ]
    },
    {
     "name": "stdout",
     "output_type": "stream",
     "text": [
      "[1, 20, 400, 8000]\n",
      "[1, 20, 400, 8000]\n"
     ]
    }
   ],
   "source": [
    "\"\"\"\n",
    "    Esercizio \n",
    "    Calcolare (ma non stampare) le prime N potenze di K;\n",
    "      ognuna di esse andrà memorizzata in coda a una lista. \n",
    "      Alla fine, stampare la lista risultante. \n",
    "      Proviamo con diversi valori di K, oppure facciamola inserire all'utente. \n",
    "      Realizzare due versioni: • con un ciclo while, • con un ciclo for.\n",
    "\"\"\"\n",
    "\n",
    "#inputs\n",
    "\n",
    "powers = []\n",
    "num = int(input(\"insert a number: \"))\n",
    "pow = int(input(\"insert its power: \"))\n",
    "\n",
    "#v1 while\n",
    "index = 0\n",
    "\n",
    "while index < pow:\n",
    "    powers.append(num**index)\n",
    "    index += 1\n",
    "\n",
    "print(powers)    \n",
    "\n",
    "powers = []\n",
    "\n",
    "#v2 for\n",
    "for x in range(pow):\n",
    "    powers.append(num**x)\n",
    "\n",
    "print(powers)\n",
    "\n",
    "#v3 list comprehension\n",
    "powers = [num**x for x in range(pow)]\n"
   ]
  },
  {
   "cell_type": "code",
   "execution_count": 18,
   "id": "317a411d-9653-416c-be7f-5b1a09a2de3c",
   "metadata": {},
   "outputs": [
    {
     "name": "stdout",
     "output_type": "stream",
     "text": [
      "70\n"
     ]
    }
   ],
   "source": [
    "\"\"\"\"\n",
    "    Esercizio \n",
    "    usando un costrutto for, calcolare la media dei guadagni e stamparla a video.\n",
    "    abbiamo una lista con i guadagni degli ultimi 12 mesi: \n",
    "\"\"\"\n",
    "\n",
    "\n",
    "guadagni = [100, 90, 70, 40, 50, 80, 90, 120, 80, 20, 50, 50]\n",
    "sum = 1\n",
    "mean = 0\n",
    "\n",
    "for x in guadagni:\n",
    "\n",
    "    sum += x\n",
    "\n",
    "print(sum//12)"
   ]
  },
  {
   "cell_type": "code",
   "execution_count": 20,
   "id": "1a35830f-d4ae-4b66-a13f-249466880da1",
   "metadata": {},
   "outputs": [
    {
     "name": "stdout",
     "output_type": "stream",
     "text": [
      "Albergo 1\n",
      "Sedia 1\n",
      "Borgo 0\n",
      "Petalo 1\n",
      "Eremo 2\n",
      "Belvedere 4\n",
      "Semestre 3\n",
      "Esteta 2\n",
      "Sosta 0\n",
      "Orpello 1\n",
      "Abete 2\n",
      "Orologio 0\n",
      "Cesta 1\n",
      "Ermellino 2\n"
     ]
    }
   ],
   "source": [
    "\"\"\"\"\n",
    "    Esercizio \n",
    "    Abbiamo una lista di parole: \n",
    "    parole = [\"Albergo\", \"Sedia\", \"Borgo\", \"Petalo\", \"Eremo\", \"Belvedere\", \"Semestre\", \n",
    "    \"Esteta\", \"Sosta\", \"Orpello\", \"Abete\", \"Orologio\", \"Cesta\", \"Ermellino\"] stampiamo, per ogni parola,\n",
    "    quante volte appare la lettera \"e\"; facciamo attenzione al fatto che appare sia maiuscola che \n",
    "    minuscola.\n",
    "\"\"\"\n",
    "parole = [\n",
    "            \"Albergo\", \"Sedia\", \"Borgo\", \"Petalo\", \"Eremo\", \"Belvedere\", \"Semestre\", \n",
    "            \"Esteta\", \"Sosta\", \"Orpello\", \"Abete\", \"Orologio\", \"Cesta\", \"Ermellino\"\n",
    "        ]\n",
    "\n",
    "for parola in parole:\n",
    "\n",
    "    print(parola, parola.lower().count(\"e\"))"
   ]
  },
  {
   "cell_type": "code",
   "execution_count": 21,
   "id": "a9510632-e651-47c2-a7b6-391e5aa01e6b",
   "metadata": {},
   "outputs": [
    {
     "name": "stdout",
     "output_type": "stream",
     "text": [
      "Ada Punto\n",
      "Ben Multipla\n",
      "Charlie Golf\n",
      "Debbie 107\n"
     ]
    }
   ],
   "source": [
    "\"\"\" \n",
    "    Esercizio \n",
    "    Creiamo un dizionario che assegni ad ogni proprietario la sua auto, sapendo che: \n",
    "    • Ada guida una Punto \n",
    "    • Ben guida una Multipla \n",
    "    • Charlie guida una Golf \n",
    "    • Debbie guida una 107 \n",
    "    Stampiamo il dizionario per intero, e poi l'auto associata a Debbie.\n",
    "\"\"\"\n",
    "\n",
    "owners = [\"Ada\", \"Ben\", \"Charlie\", \"Debbie\"]\n",
    "cars = [\"Punto\", \"Multipla\", \"Golf\", \"107\"]\n",
    "dizionario_auto = {}\n",
    "\n",
    "if len(owners) == len(cars):\n",
    "\n",
    "    for index in range(len(owners)):\n",
    "\n",
    "        dizionario_auto[owners[index]] = cars[index]\n",
    "        print(owners[index], dizionario_auto[owners[index]])\n"
   ]
  },
  {
   "cell_type": "code",
   "execution_count": 22,
   "id": "88a7f8a9-94d8-427c-9bb1-a6fb9931e06b",
   "metadata": {},
   "outputs": [
    {
     "name": "stdout",
     "output_type": "stream",
     "text": [
      "Punto\n",
      "Golf\n",
      "107\n"
     ]
    }
   ],
   "source": [
    "\"\"\"Con un ciclo, e usando il metodo .values(), stampiamo a video tutte le auto che non sono una Multipla.\"\"\" \n",
    "\n",
    "for val in dizionario_auto.values():\n",
    "\n",
    "    if val != \"Multipla\":\n",
    "\n",
    "        print(val)"
   ]
  },
  {
   "cell_type": "code",
   "execution_count": 23,
   "id": "42259d94-4e27-4834-88e7-0b7f9bafd116",
   "metadata": {},
   "outputs": [
    {
     "name": "stdout",
     "output_type": "stream",
     "text": [
      "{'Ada': 'Punto', 'Ben': 'Polo', 'Charlie': 'Golf', 'Debbie': '107', 'Emily': 'A1', 'Fred': 'Octavia', 'Grace': 'Yaris', 'Hugh': 'Clio'}\n"
     ]
    }
   ],
   "source": [
    "\"\"\"\n",
    "    Esercizio\n",
    "    Abbiamo due dizionari che assegnano ad ogni proprietario la propria auto: \n",
    "    dizionario_auto = {\"Ada\": \"Punto\", \"Ben\": \"Multipla\", \"Charlie\": \"Golf\", \"Debbie\": \"107\", \n",
    "    \"Emily\": \"A1\"} nuovi_proprietari = {\"Ben\": \"Polo\", \"Fred\": \"Octavia\", \"Grace\": \"Yaris\", \n",
    "    \"Hugh\": \"Clio\"} \n",
    "    Aggiornare il dizionario dizionario_auto con i dati contenuti in nuovi_proprietari e stamparlo.\n",
    "    Cosa è successo a Ben?\n",
    "\"\"\"        \n",
    "dizionario_auto = {\"Ada\": \"Punto\", \"Ben\": \"Multipla\", \"Charlie\": \"Golf\", \"Debbie\": \"107\", \"Emily\": \"A1\"} \n",
    "nuovi_proprietari = {\"Ben\": \"Polo\", \"Fred\": \"Octavia\", \"Grace\": \"Yaris\", \"Hugh\": \"Clio\"}\n",
    "dizionario_auto.update(nuovi_proprietari)\n",
    "\n",
    "print(dizionario_auto)\n"
   ]
  },
  {
   "cell_type": "code",
   "execution_count": 24,
   "id": "b24717da-cdd5-42ed-aa8d-9f327eb08342",
   "metadata": {},
   "outputs": [
    {
     "name": "stdout",
     "output_type": "stream",
     "text": [
      "[448, 724, 410, 505, 529, 991, 1090, 122]\n",
      "1090 122\n"
     ]
    }
   ],
   "source": [
    "\"\"\"\n",
    "    Esercizio \n",
    "    Scrivere un programma che, data una lista di numeri, fornisca in output il minimo e il massimo \n",
    "    (possiamo usare o meno le funzioni built-in min() e max()).\n",
    "\"\"\"\n",
    "\n",
    "from random import randint\n",
    "\n",
    "lista_numeri = [randint(1,1100) for x in range(randint(6,12))]\n",
    "print(lista_numeri)\n",
    "\n",
    "\n",
    "max = 0\n",
    "\n",
    "for num in lista_numeri:\n",
    "\n",
    "    if num > max:\n",
    "\n",
    "        max = num\n",
    "\n",
    "min = max\n",
    "\n",
    "for n in lista_numeri:\n",
    "\n",
    "    if n < min:\n",
    "\n",
    "        min = n\n",
    "    \n",
    "    \n",
    "\n",
    "print(max, min)        \n"
   ]
  },
  {
   "cell_type": "code",
   "execution_count": 25,
   "id": "3f9460cd-14f7-4614-b145-3e68b3df6b62",
   "metadata": {},
   "outputs": [
    {
     "name": "stdin",
     "output_type": "stream",
     "text": [
      "Type in a list of numbers, separated by commas:  2,4,5,6,7,8\n",
      "Type in a number:  50\n"
     ]
    },
    {
     "name": "stdout",
     "output_type": "stream",
     "text": [
      "There is no number greater than or equal to the one selected.\n"
     ]
    }
   ],
   "source": [
    "\"\"\"\n",
    "    Esercizio \n",
    "    Scrivere un programma che \n",
    "    • in input acquisisce una lista di numeri e un numero K \n",
    "    • in output, dovrà restituire la media di tutti i numeri nella lista maggiori o uguali a K \n",
    "    • se non ce ne dovesse essere nessuno, dovrà stampare a schermo un messaggio adeguato.\n",
    "\"\"\"\n",
    "\n",
    "lista_nums = input(\"Type in a list of numbers, separated by commas: \").split(\",\")\n",
    "k = int(input(\"Type in a number: \"))\n",
    "lista_nums = [int(num) for num in lista_nums]\n",
    "\n",
    "sum = 0\n",
    "count = 0\n",
    "\n",
    "for n in lista_nums:\n",
    "\n",
    "    if n >= k:\n",
    "        \n",
    "        sum += n\n",
    "        count += 1\n",
    "\n",
    "if not count:\n",
    "    print(\"There is no number greater than or equal to the one selected.\")\n",
    "else:\n",
    "    avg = sum / count\n",
    "    print(avg)\n"
   ]
  },
  {
   "cell_type": "code",
   "execution_count": 29,
   "id": "fedb0f4f-4db8-4bc2-9d1d-1cb966a7b109",
   "metadata": {},
   "outputs": [
    {
     "name": "stdout",
     "output_type": "stream",
     "text": [
      "0 ******\n",
      "1 *********\n",
      "2 **\n",
      "3 ****\n",
      "4 **\n",
      "5 ****\n",
      "6 *\n",
      "7 ****\n",
      "\n",
      "3 ***\n",
      "5 *****\n",
      "2 **\n",
      "3 ***\n",
      "8 ********\n",
      "3 ***\n",
      "6 ******\n",
      "3 ***\n",
      "10 **********\n",
      "9 *********\n"
     ]
    }
   ],
   "source": [
    "\"\"\"\n",
    "    Esercizio \n",
    "    Scrivere un programma che, data una lista di numeri, come output stamperà lo stesso numero di \n",
    "    asterischi su righe diverse, ottenendo una semplice visualizzazione grafica \n",
    "    Esempio, supponendo di avere il seguente input: numeri = [5, 2, 3, 4] \n",
    "    L'output sarà: ***** ** *** ****\n",
    "\"\"\"\n",
    "\n",
    "#v1 dynamic\n",
    "for x in range(randint(7,10)):\n",
    "\n",
    "    print(x ,randint(1,10) * \"*\")\n",
    "\n",
    "print()\n",
    "#v2\n",
    "lista_nums = [randint(1,10) for x in range(10)]\n",
    "\n",
    "for y in lista_nums:\n",
    "\n",
    "    print(y, \"*\" * y)    "
   ]
  },
  {
   "cell_type": "code",
   "execution_count": 30,
   "id": "18034351-e168-42bf-bb1d-318372c0e448",
   "metadata": {},
   "outputs": [
    {
     "name": "stdout",
     "output_type": "stream",
     "text": [
      "ABCDEF95G01A123B\n",
      "Name ABC\n",
      "Surname DEF\n",
      "STUVWX95Z04A654E\n",
      "Name STU\n",
      "Surname VWX\n",
      "DEFGHI95J06A987G\n",
      "Name DEF\n",
      "Surname GHI\n"
     ]
    }
   ],
   "source": [
    "\"\"\"\n",
    "    Esercizio \n",
    "    Abbiamo una lista di codici fiscali\n",
    "    • trovare i codici fiscali che contengono \"95\", metterli in una lista, e alla fine stamparla; \n",
    "    • inoltre, per ognuno di essi, stampare a video i caratteri relativi al nome e quelli relativi \n",
    "      al cognome.\n",
    "\"\"\"\n",
    "\n",
    "lista_cf = [\n",
    "            \"ABCDEF95G01A123B\", \"GHIJKL91M02A321C\", \"MNOPQR89S03A456D\", \"STUVWX95Z04A654E\", \n",
    "            \"XYZABC01D05A789F\", \"DEFGHI95J06A987G\"\n",
    "            ]\n",
    "\n",
    "to_print = [cod for cod in lista_cf if \"95\" in cod]\n",
    "\n",
    "for cf in to_print:\n",
    "\n",
    "    print(cf)\n",
    "    print(f\"Name {cf[:3]}\")\n",
    "    print(f\"Surname {cf[3:6]}\")"
   ]
  },
  {
   "cell_type": "code",
   "execution_count": 31,
   "id": "f09c3dee-9521-47c6-aea0-b1179a5aefd2",
   "metadata": {},
   "outputs": [
    {
     "name": "stdout",
     "output_type": "stream",
     "text": [
      "('Alex', 'Cybersecurity', 1)\n",
      "('Faith', 'Backend', 1)\n"
     ]
    }
   ],
   "source": [
    "\"\"\"\n",
    "    Esercizio \n",
    "    Abbiamo tre liste della stessa lunghezza, dove ogni elemento nella medesima posizione si riferisce ai \n",
    "    dati dello stesso studente: studenti = [\"Alex\", \"Bob\", \"Cindy\", \"Dan\", \"Emma\", \"Faith\", \"Grace\", \n",
    "    \"Henry\"] corsi = [\"Cybersecurity\", \"Data Analyst\", \"Backend\", \"Frontend\", \"Data Analyst\", \"Backend\", \n",
    "    \"Frontend\", \"Cybersecurity\"] edizioni = [1, 2, 3, 2, 2, 1, 3, 3] \n",
    "    • Stampare a video tutti e soli gli studenti che frequentano una prima edizione; \n",
    "    non tutti i dati potrebbero essere necessari.\n",
    "\"\"\"\n",
    "\n",
    "studenti = [\"Alex\", \"Bob\", \"Cindy\", \"Dan\", \"Emma\", \"Faith\", \"Grace\", \"Henry\"] \n",
    "corsi = [\n",
    "        \"Cybersecurity\", \"Data Analyst\", \"Backend\", \"Frontend\", \"Data Analyst\", \"Backend\", \"Frontend\", \n",
    "        \"Cybersecurity\"] \n",
    "edizioni = [1, 2, 3, 2, 2, 1, 3, 3]\n",
    "\n",
    "for student in zip(studenti, corsi, edizioni):\n",
    "\n",
    "    ed = student[-1]\n",
    "    \n",
    "    if ed == 1:\n",
    "\n",
    "        print(student)\n"
   ]
  },
  {
   "cell_type": "code",
   "execution_count": 33,
   "id": "54164e08-e593-4a7a-97cb-69914d30d0cd",
   "metadata": {},
   "outputs": [
    {
     "name": "stdout",
     "output_type": "stream",
     "text": [
      "['100 $', '200 $', '500 $', '10 $', '50 $', '70 $']\n"
     ]
    }
   ],
   "source": [
    "\"\"\"\n",
    "    Esercizio \n",
    "    Abbiamo una lista di stringhe di prezzi in dollari, che erroneamente sono stati scritti con il \n",
    "    simbolo dell'euro: prezzi = [\"100 €\", \"200 €\", \"500 €\", \"10 €\", \"50 €\", \"70 €\"] cambiare il simbolo \n",
    "    dell'euro (€) in quello del dollaro ($) per ogni stringa nella lista; il risultato sarà memorizzato \n",
    "    in un'altra lista.\n",
    "\"\"\"\n",
    "\n",
    "prezzi = [\"100 €\", \"200 €\", \"500 €\", \"10 €\", \"50 €\", \"70 €\"]\n",
    "prezzi_updated = [price.replace(\"€\", \"$\") for price in prezzi]\n",
    "print(prezzi_updated)"
   ]
  },
  {
   "cell_type": "code",
   "execution_count": 34,
   "id": "0f7f8982-a107-48ed-bd17-1b7c8fead740",
   "metadata": {},
   "outputs": [
    {
     "name": "stdout",
     "output_type": "stream",
     "text": [
      "['Alex', 'Cindy', 'Emma', 'Grace', 'Isabelle'] ['Bob', 'Dan', 'Faith', 'Henry', 'John']\n"
     ]
    }
   ],
   "source": [
    "\"\"\"\n",
    "    Esercizio \n",
    "    Abbiamo una lista di studenti \n",
    "    vogliamo dividere gli studenti in due squadre per un campionato di Uno nel seguente modo: \n",
    "    selezioneremo i nomi in posizione pari per un squadra, e i nomi in posizione dispari per l'altra. \n",
    "    Creiamo due liste per ogni squadra, e alla fine visualizziamole.\n",
    "\"\"\"\n",
    "\n",
    "studenti = [\"Alex\", \"Bob\", \"Cindy\", \"Dan\", \"Emma\", \"Faith\", \"Grace\", \"Henry\", \"Isabelle\", \"John\"] \n",
    "teamA = []\n",
    "teamB = []\n",
    "\n",
    "for index,student in enumerate(studenti):\n",
    "\n",
    "    if index % 2 == 0:\n",
    "\n",
    "        teamA.append(student)\n",
    "        \n",
    "    else:\n",
    "        \n",
    "        teamB.append(student)\n",
    "\n",
    "print(teamA, teamB)"
   ]
  },
  {
   "cell_type": "code",
   "execution_count": 35,
   "id": "56d293d9-a271-4c44-b0f1-1a27e32fd30f",
   "metadata": {},
   "outputs": [
    {
     "name": "stdout",
     "output_type": "stream",
     "text": [
      "media prec: 0 € - il guadagno è maggiore\n",
      "media prec: 100 € - il guadagno è minore\n",
      "media prec: 95 € - il guadagno è minore\n",
      "media prec: 86 € - il guadagno è minore\n",
      "media prec: 75 € - il guadagno è minore\n",
      "media prec: 70 € - il guadagno è maggiore\n",
      "media prec: 71 € - il guadagno è maggiore\n",
      "media prec: 74 € - il guadagno è maggiore\n",
      "media prec: 80 € - il guadagno è minore\n",
      "media prec: 80 € - il guadagno è minore\n",
      "media prec: 74 € - il guadagno è minore\n",
      "media prec: 71 € - il guadagno è minore\n"
     ]
    }
   ],
   "source": [
    "\"\"\"\n",
    "    Esercizio \n",
    "    Abbiamo una lista con i guadagni degli ultimi 12 mesi (supponiamo da Gennaio a Dicembre): \n",
    "    dobbiamo confrontare, stampando tutto a video, il guadagno di ogni mese con la media dei \n",
    "    guadagni precedenti, e specificare nell'output \n",
    "    se il guadagno attuale è maggiore o minore della media dei precedenti. \n",
    "    Esempio di un possibile output: \n",
    "    Mese 1: 100 € \n",
    "    Mese 2: 90 € (media prec: 100 € - il guadagno attuale è minore) \n",
    "    Mese 3: 70 € (media prec: 95 € - il guadagno attuale è minore)\n",
    "\"\"\"  \n",
    "\n",
    "guadagni = [100, 90, 70, 40, 50, 80, 90, 120, 80, 20, 50, 50]\n",
    "total = 0\n",
    "count = 1\n",
    "current = 0\n",
    "\n",
    "for rev in guadagni:\n",
    "\n",
    "    total += rev\n",
    "    avg = total // count\n",
    "    if count > 0:\n",
    "        print(f\"media prec: {current} € - il guadagno è {'maggiore' if avg > current else 'minore'}\")\n",
    "    current = avg\n",
    "    count += 1"
   ]
  },
  {
   "cell_type": "code",
   "execution_count": null,
   "id": "2b5a5e5a-98e8-476c-a424-7bb7b737cfd1",
   "metadata": {},
   "outputs": [],
   "source": []
  },
  {
   "cell_type": "code",
   "execution_count": null,
   "id": "a3d21f54-8d39-40bf-82e9-31848f353bb8",
   "metadata": {},
   "outputs": [],
   "source": []
  }
 ],
 "metadata": {
  "kernelspec": {
   "display_name": "Python 3 (ipykernel)",
   "language": "python",
   "name": "python3"
  },
  "language_info": {
   "codemirror_mode": {
    "name": "ipython",
    "version": 3
   },
   "file_extension": ".py",
   "mimetype": "text/x-python",
   "name": "python",
   "nbconvert_exporter": "python",
   "pygments_lexer": "ipython3",
   "version": "3.10.12"
  }
 },
 "nbformat": 4,
 "nbformat_minor": 5
}
